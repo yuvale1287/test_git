{
 "cells": [
  {
   "cell_type": "markdown",
   "metadata": {},
   "source": [
    "# OSale Dataset Generation\n",
    "\n",
    "On this notebook we will proceed to generate a dataset based on the Brazilian ecommerce public dataset. The dataset consist on a flat file that contains the variables that will be used for modeling. \n",
    "\n",
    "The steps for the generation of the dataser are:\n",
    " \n",
    "1. Define the type of prediction we want to model. \n",
    "2. Define the predicted variable (outcome). \n",
    "3. Define the time periods for the data. The time cutoff will be used for defining the independent variables (based on the time before the time cutoff), and the outcome (based on the time after the time cutoff).\n",
    "4. Add the independent variables to the table.\n",
    "\n",
    "The goal of our model will be to predict which sellers will stay on the marked for at least 3 month after their first sell.\n"
   ]
  },
  {
   "cell_type": "code",
   "execution_count": 55,
   "metadata": {},
   "outputs": [],
   "source": [
    "if(!require(DBI)){install.packages(\"DBI\"); require(DBI)}\n",
    "if(!require(RSQLite)){install.packages(\"RSQLite\"); require(RSQLite)}\n",
    "require(dplyr)"
   ]
  },
  {
   "cell_type": "code",
   "execution_count": 56,
   "metadata": {},
   "outputs": [],
   "source": [
    "ROOT_PATH = \"/home/tomas/Documents/Technion/class_project/\"\n",
    "DATA_PATH = \"/home/tomas/Documents/Technion/class_project/data/raw/\"\n",
    "DB_FILE = paste0(DATA_PATH,\"/olist.db\") "
   ]
  },
  {
   "cell_type": "code",
   "execution_count": 57,
   "metadata": {},
   "outputs": [],
   "source": [
    "##############################################################################\n",
    "##########                DATABASE FUNCTIONS                     #############\n",
    "##############################################################################\n",
    "\n",
    "#### List the name of the tables on the database \n",
    "listTables <- function(db=DB_FILE) {\n",
    "    require(DBI)\n",
    "    require(RSQLite)\n",
    "    con <- dbConnect(SQLite(), DB_FILE)\n",
    "    ### list the tables on the DB\n",
    "    res <- dbListTables(con)\n",
    "    return(res)\n",
    "}\n",
    "            \n",
    "#### Read function to import data from the SQL to a pandas dataframe.\n",
    "readSQL <- function(query, db=DB_FILE) {\n",
    "    require(DBI)\n",
    "    require(RSQLite)\n",
    "    con <- dbConnect(SQLite(), DB_FILE)\n",
    "    df <- dbGetQuery(con, query)\n",
    "    return(df)\n",
    "}\n",
    "\n",
    "#### Write a pandas dataframe into an SQL table. Use overwrite=True if you want to delete \n",
    "#### first a pre-existent table with the same name. Use append=True if you want to append\n",
    "#### the data in the dataframe to a pre-existent table.\n",
    "writeSQL <- function(df,tablename,overwrite=FALSE, append=FALSE,db=DB_FILE) {\n",
    "    require(DBI)\n",
    "    require(RSQLite)\n",
    "    con <- dbConnect(SQLite(), DB_FILE)\n",
    "    dbWriteTable(con,tablename,df,overwrite,append)\n",
    "}\n",
    "\n",
    "#### Generate a view based on the provided SQL query\n",
    "createView <- function(viewname, query) {\n",
    "    require(DBI)\n",
    "    require(RSQLite)\n",
    "    con <- dbConnect(SQLite(), DB_FILE)\n",
    "    view = paste0('CREATE VIEW ',viewname,' AS \\n', query)\n",
    "    dbSendQuery(con, view)\n",
    "}"
   ]
  },
  {
   "cell_type": "code",
   "execution_count": 58,
   "metadata": {
    "scrolled": true
   },
   "outputs": [
    {
     "data": {
      "text/html": [
       "<ol class=list-inline>\n",
       "\t<li>'closed_deals'</li>\n",
       "\t<li>'cust_sell_geo_v'</li>\n",
       "\t<li>'customer_geolocation_v'</li>\n",
       "\t<li>'customer_sellers_v'</li>\n",
       "\t<li>'customers'</li>\n",
       "\t<li>'geolocation'</li>\n",
       "\t<li>'marketing_qualified_leads'</li>\n",
       "\t<li>'order_items'</li>\n",
       "\t<li>'order_payment_final_v'</li>\n",
       "\t<li>'order_payments'</li>\n",
       "\t<li>'order_product_counts_v'</li>\n",
       "\t<li>'order_reviews'</li>\n",
       "\t<li>'orders'</li>\n",
       "\t<li>'product_category_name_translation'</li>\n",
       "\t<li>'product_cost_dim'</li>\n",
       "\t<li>'product_costs_v'</li>\n",
       "\t<li>'products'</li>\n",
       "\t<li>'products_by_sellers_v'</li>\n",
       "\t<li>'seller_geolocation_v'</li>\n",
       "\t<li>'seller_prodcat_v'</li>\n",
       "\t<li>'seller_times'</li>\n",
       "\t<li>'sellers'</li>\n",
       "\t<li>'sellers_dataset'</li>\n",
       "</ol>\n"
      ],
      "text/latex": [
       "\\begin{enumerate*}\n",
       "\\item 'closed\\_deals'\n",
       "\\item 'cust\\_sell\\_geo\\_v'\n",
       "\\item 'customer\\_geolocation\\_v'\n",
       "\\item 'customer\\_sellers\\_v'\n",
       "\\item 'customers'\n",
       "\\item 'geolocation'\n",
       "\\item 'marketing\\_qualified\\_leads'\n",
       "\\item 'order\\_items'\n",
       "\\item 'order\\_payment\\_final\\_v'\n",
       "\\item 'order\\_payments'\n",
       "\\item 'order\\_product\\_counts\\_v'\n",
       "\\item 'order\\_reviews'\n",
       "\\item 'orders'\n",
       "\\item 'product\\_category\\_name\\_translation'\n",
       "\\item 'product\\_cost\\_dim'\n",
       "\\item 'product\\_costs\\_v'\n",
       "\\item 'products'\n",
       "\\item 'products\\_by\\_sellers\\_v'\n",
       "\\item 'seller\\_geolocation\\_v'\n",
       "\\item 'seller\\_prodcat\\_v'\n",
       "\\item 'seller\\_times'\n",
       "\\item 'sellers'\n",
       "\\item 'sellers\\_dataset'\n",
       "\\end{enumerate*}\n"
      ],
      "text/markdown": [
       "1. 'closed_deals'\n",
       "2. 'cust_sell_geo_v'\n",
       "3. 'customer_geolocation_v'\n",
       "4. 'customer_sellers_v'\n",
       "5. 'customers'\n",
       "6. 'geolocation'\n",
       "7. 'marketing_qualified_leads'\n",
       "8. 'order_items'\n",
       "9. 'order_payment_final_v'\n",
       "10. 'order_payments'\n",
       "11. 'order_product_counts_v'\n",
       "12. 'order_reviews'\n",
       "13. 'orders'\n",
       "14. 'product_category_name_translation'\n",
       "15. 'product_cost_dim'\n",
       "16. 'product_costs_v'\n",
       "17. 'products'\n",
       "18. 'products_by_sellers_v'\n",
       "19. 'seller_geolocation_v'\n",
       "20. 'seller_prodcat_v'\n",
       "21. 'seller_times'\n",
       "22. 'sellers'\n",
       "23. 'sellers_dataset'\n",
       "\n",
       "\n"
      ],
      "text/plain": [
       " [1] \"closed_deals\"                      \"cust_sell_geo_v\"                  \n",
       " [3] \"customer_geolocation_v\"            \"customer_sellers_v\"               \n",
       " [5] \"customers\"                         \"geolocation\"                      \n",
       " [7] \"marketing_qualified_leads\"         \"order_items\"                      \n",
       " [9] \"order_payment_final_v\"             \"order_payments\"                   \n",
       "[11] \"order_product_counts_v\"            \"order_reviews\"                    \n",
       "[13] \"orders\"                            \"product_category_name_translation\"\n",
       "[15] \"product_cost_dim\"                  \"product_costs_v\"                  \n",
       "[17] \"products\"                          \"products_by_sellers_v\"            \n",
       "[19] \"seller_geolocation_v\"              \"seller_prodcat_v\"                 \n",
       "[21] \"seller_times\"                      \"sellers\"                          \n",
       "[23] \"sellers_dataset\"                  "
      ]
     },
     "metadata": {},
     "output_type": "display_data"
    }
   ],
   "source": [
    "listTables()"
   ]
  },
  {
   "cell_type": "code",
   "execution_count": 5,
   "metadata": {},
   "outputs": [],
   "source": [
    "sellers = readSQL(\"SELECT * FROM sellers\")"
   ]
  },
  {
   "cell_type": "code",
   "execution_count": 6,
   "metadata": {},
   "outputs": [
    {
     "data": {
      "text/html": [
       "<ol class=list-inline>\n",
       "\t<li>3095</li>\n",
       "\t<li>4</li>\n",
       "</ol>\n"
      ],
      "text/latex": [
       "\\begin{enumerate*}\n",
       "\\item 3095\n",
       "\\item 4\n",
       "\\end{enumerate*}\n"
      ],
      "text/markdown": [
       "1. 3095\n",
       "2. 4\n",
       "\n",
       "\n"
      ],
      "text/plain": [
       "[1] 3095    4"
      ]
     },
     "metadata": {},
     "output_type": "display_data"
    }
   ],
   "source": [
    "dim(sellers)"
   ]
  },
  {
   "cell_type": "code",
   "execution_count": 7,
   "metadata": {},
   "outputs": [
    {
     "data": {
      "text/html": [
       "<table>\n",
       "<thead><tr><th scope=col>seller_id</th><th scope=col>seller_zip_code_prefix</th><th scope=col>seller_city</th><th scope=col>seller_state</th></tr></thead>\n",
       "<tbody>\n",
       "\t<tr><td>3442f8959a84dea7ee197c632cb2df15</td><td>13023                           </td><td>campinas                        </td><td>SP                              </td></tr>\n",
       "\t<tr><td>d1b65fc7debc3361ea86b5f14c68d2e2</td><td>13844                           </td><td>mogi guacu                      </td><td>SP                              </td></tr>\n",
       "\t<tr><td>ce3ad9de960102d0677a81f5d0bb7b2d</td><td>20031                           </td><td>rio de janeiro                  </td><td>RJ                              </td></tr>\n",
       "\t<tr><td>c0f3eea2e14555b6faeea3dd58c1b1c3</td><td> 4195                           </td><td>sao paulo                       </td><td>SP                              </td></tr>\n",
       "\t<tr><td>51a04a8a6bdcb23deccc82b0b80742cf</td><td>12914                           </td><td>braganca paulista               </td><td>SP                              </td></tr>\n",
       "\t<tr><td>c240c4061717ac1806ae6ee72be3533b</td><td>20920                           </td><td>rio de janeiro                  </td><td>RJ                              </td></tr>\n",
       "</tbody>\n",
       "</table>\n"
      ],
      "text/latex": [
       "\\begin{tabular}{r|llll}\n",
       " seller\\_id & seller\\_zip\\_code\\_prefix & seller\\_city & seller\\_state\\\\\n",
       "\\hline\n",
       "\t 3442f8959a84dea7ee197c632cb2df15 & 13023                            & campinas                         & SP                              \\\\\n",
       "\t d1b65fc7debc3361ea86b5f14c68d2e2 & 13844                            & mogi guacu                       & SP                              \\\\\n",
       "\t ce3ad9de960102d0677a81f5d0bb7b2d & 20031                            & rio de janeiro                   & RJ                              \\\\\n",
       "\t c0f3eea2e14555b6faeea3dd58c1b1c3 &  4195                            & sao paulo                        & SP                              \\\\\n",
       "\t 51a04a8a6bdcb23deccc82b0b80742cf & 12914                            & braganca paulista                & SP                              \\\\\n",
       "\t c240c4061717ac1806ae6ee72be3533b & 20920                            & rio de janeiro                   & RJ                              \\\\\n",
       "\\end{tabular}\n"
      ],
      "text/markdown": [
       "\n",
       "seller_id | seller_zip_code_prefix | seller_city | seller_state | \n",
       "|---|---|---|---|---|---|\n",
       "| 3442f8959a84dea7ee197c632cb2df15 | 13023                            | campinas                         | SP                               | \n",
       "| d1b65fc7debc3361ea86b5f14c68d2e2 | 13844                            | mogi guacu                       | SP                               | \n",
       "| ce3ad9de960102d0677a81f5d0bb7b2d | 20031                            | rio de janeiro                   | RJ                               | \n",
       "| c0f3eea2e14555b6faeea3dd58c1b1c3 |  4195                            | sao paulo                        | SP                               | \n",
       "| 51a04a8a6bdcb23deccc82b0b80742cf | 12914                            | braganca paulista                | SP                               | \n",
       "| c240c4061717ac1806ae6ee72be3533b | 20920                            | rio de janeiro                   | RJ                               | \n",
       "\n",
       "\n"
      ],
      "text/plain": [
       "  seller_id                        seller_zip_code_prefix seller_city      \n",
       "1 3442f8959a84dea7ee197c632cb2df15 13023                  campinas         \n",
       "2 d1b65fc7debc3361ea86b5f14c68d2e2 13844                  mogi guacu       \n",
       "3 ce3ad9de960102d0677a81f5d0bb7b2d 20031                  rio de janeiro   \n",
       "4 c0f3eea2e14555b6faeea3dd58c1b1c3  4195                  sao paulo        \n",
       "5 51a04a8a6bdcb23deccc82b0b80742cf 12914                  braganca paulista\n",
       "6 c240c4061717ac1806ae6ee72be3533b 20920                  rio de janeiro   \n",
       "  seller_state\n",
       "1 SP          \n",
       "2 SP          \n",
       "3 RJ          \n",
       "4 SP          \n",
       "5 SP          \n",
       "6 RJ          "
      ]
     },
     "metadata": {},
     "output_type": "display_data"
    }
   ],
   "source": [
    "head(sellers)"
   ]
  },
  {
   "cell_type": "markdown",
   "metadata": {},
   "source": [
    "As we can see, we have 3095 sellers. we need now to check when they entered Olist. For thise we check when the first order was made."
   ]
  },
  {
   "cell_type": "code",
   "execution_count": 8,
   "metadata": {},
   "outputs": [
    {
     "data": {
      "text/html": [
       "<table>\n",
       "<thead><tr><th scope=col>order_id</th><th scope=col>order_item_id</th><th scope=col>product_id</th><th scope=col>seller_id</th><th scope=col>shipping_limit_date</th><th scope=col>price</th><th scope=col>freight_value</th></tr></thead>\n",
       "<tbody>\n",
       "\t<tr><td>00010242fe8c5a6d1ba2dd792cb16214</td><td>1                               </td><td>4244733e06e7ecb4970a6e2683c13e61</td><td>48436dade18ac8b2bce089ec2a041202</td><td>2017-09-19 09:45:35             </td><td> 58.90                          </td><td>13.29                           </td></tr>\n",
       "\t<tr><td>00018f77f2f0320c557190d7a144bdd3</td><td>1                               </td><td>e5f2d52b802189ee658865ca93d83a8f</td><td>dd7ddc04e1b6c2c614352b383efe2d36</td><td>2017-05-03 11:05:13             </td><td>239.90                          </td><td>19.93                           </td></tr>\n",
       "\t<tr><td>000229ec398224ef6ca0657da4fc703e</td><td>1                               </td><td>c777355d18b72b67abbeef9df44fd0fd</td><td>5b51032eddd242adc84c38acab88f23d</td><td>2018-01-18 14:48:30             </td><td>199.00                          </td><td>17.87                           </td></tr>\n",
       "\t<tr><td>00024acbcdf0a6daa1e931b038114c75</td><td>1                               </td><td>7634da152a4610f1595efa32f14722fc</td><td>9d7a1d34a5052409006425275ba1c2b4</td><td>2018-08-15 10:10:18             </td><td> 12.99                          </td><td>12.79                           </td></tr>\n",
       "\t<tr><td>00042b26cf59d7ce69dfabb4e55b4fd9</td><td>1                               </td><td>ac6c3623068f30de03045865e4e10089</td><td>df560393f3a51e74553ab94004ba5c87</td><td>2017-02-13 13:57:51             </td><td>199.90                          </td><td>18.14                           </td></tr>\n",
       "\t<tr><td>00048cc3ae777c65dbb7d2a0634bc1ea</td><td>1                               </td><td>ef92defde845ab8450f9d70c526ef70f</td><td>6426d21aca402a131fc0a5d0960a3c90</td><td>2017-05-23 03:55:27             </td><td> 21.90                          </td><td>12.69                           </td></tr>\n",
       "</tbody>\n",
       "</table>\n"
      ],
      "text/latex": [
       "\\begin{tabular}{r|lllllll}\n",
       " order\\_id & order\\_item\\_id & product\\_id & seller\\_id & shipping\\_limit\\_date & price & freight\\_value\\\\\n",
       "\\hline\n",
       "\t 00010242fe8c5a6d1ba2dd792cb16214 & 1                                & 4244733e06e7ecb4970a6e2683c13e61 & 48436dade18ac8b2bce089ec2a041202 & 2017-09-19 09:45:35              &  58.90                           & 13.29                           \\\\\n",
       "\t 00018f77f2f0320c557190d7a144bdd3 & 1                                & e5f2d52b802189ee658865ca93d83a8f & dd7ddc04e1b6c2c614352b383efe2d36 & 2017-05-03 11:05:13              & 239.90                           & 19.93                           \\\\\n",
       "\t 000229ec398224ef6ca0657da4fc703e & 1                                & c777355d18b72b67abbeef9df44fd0fd & 5b51032eddd242adc84c38acab88f23d & 2018-01-18 14:48:30              & 199.00                           & 17.87                           \\\\\n",
       "\t 00024acbcdf0a6daa1e931b038114c75 & 1                                & 7634da152a4610f1595efa32f14722fc & 9d7a1d34a5052409006425275ba1c2b4 & 2018-08-15 10:10:18              &  12.99                           & 12.79                           \\\\\n",
       "\t 00042b26cf59d7ce69dfabb4e55b4fd9 & 1                                & ac6c3623068f30de03045865e4e10089 & df560393f3a51e74553ab94004ba5c87 & 2017-02-13 13:57:51              & 199.90                           & 18.14                           \\\\\n",
       "\t 00048cc3ae777c65dbb7d2a0634bc1ea & 1                                & ef92defde845ab8450f9d70c526ef70f & 6426d21aca402a131fc0a5d0960a3c90 & 2017-05-23 03:55:27              &  21.90                           & 12.69                           \\\\\n",
       "\\end{tabular}\n"
      ],
      "text/markdown": [
       "\n",
       "order_id | order_item_id | product_id | seller_id | shipping_limit_date | price | freight_value | \n",
       "|---|---|---|---|---|---|\n",
       "| 00010242fe8c5a6d1ba2dd792cb16214 | 1                                | 4244733e06e7ecb4970a6e2683c13e61 | 48436dade18ac8b2bce089ec2a041202 | 2017-09-19 09:45:35              |  58.90                           | 13.29                            | \n",
       "| 00018f77f2f0320c557190d7a144bdd3 | 1                                | e5f2d52b802189ee658865ca93d83a8f | dd7ddc04e1b6c2c614352b383efe2d36 | 2017-05-03 11:05:13              | 239.90                           | 19.93                            | \n",
       "| 000229ec398224ef6ca0657da4fc703e | 1                                | c777355d18b72b67abbeef9df44fd0fd | 5b51032eddd242adc84c38acab88f23d | 2018-01-18 14:48:30              | 199.00                           | 17.87                            | \n",
       "| 00024acbcdf0a6daa1e931b038114c75 | 1                                | 7634da152a4610f1595efa32f14722fc | 9d7a1d34a5052409006425275ba1c2b4 | 2018-08-15 10:10:18              |  12.99                           | 12.79                            | \n",
       "| 00042b26cf59d7ce69dfabb4e55b4fd9 | 1                                | ac6c3623068f30de03045865e4e10089 | df560393f3a51e74553ab94004ba5c87 | 2017-02-13 13:57:51              | 199.90                           | 18.14                            | \n",
       "| 00048cc3ae777c65dbb7d2a0634bc1ea | 1                                | ef92defde845ab8450f9d70c526ef70f | 6426d21aca402a131fc0a5d0960a3c90 | 2017-05-23 03:55:27              |  21.90                           | 12.69                            | \n",
       "\n",
       "\n"
      ],
      "text/plain": [
       "  order_id                         order_item_id\n",
       "1 00010242fe8c5a6d1ba2dd792cb16214 1            \n",
       "2 00018f77f2f0320c557190d7a144bdd3 1            \n",
       "3 000229ec398224ef6ca0657da4fc703e 1            \n",
       "4 00024acbcdf0a6daa1e931b038114c75 1            \n",
       "5 00042b26cf59d7ce69dfabb4e55b4fd9 1            \n",
       "6 00048cc3ae777c65dbb7d2a0634bc1ea 1            \n",
       "  product_id                       seller_id                       \n",
       "1 4244733e06e7ecb4970a6e2683c13e61 48436dade18ac8b2bce089ec2a041202\n",
       "2 e5f2d52b802189ee658865ca93d83a8f dd7ddc04e1b6c2c614352b383efe2d36\n",
       "3 c777355d18b72b67abbeef9df44fd0fd 5b51032eddd242adc84c38acab88f23d\n",
       "4 7634da152a4610f1595efa32f14722fc 9d7a1d34a5052409006425275ba1c2b4\n",
       "5 ac6c3623068f30de03045865e4e10089 df560393f3a51e74553ab94004ba5c87\n",
       "6 ef92defde845ab8450f9d70c526ef70f 6426d21aca402a131fc0a5d0960a3c90\n",
       "  shipping_limit_date price  freight_value\n",
       "1 2017-09-19 09:45:35  58.90 13.29        \n",
       "2 2017-05-03 11:05:13 239.90 19.93        \n",
       "3 2018-01-18 14:48:30 199.00 17.87        \n",
       "4 2018-08-15 10:10:18  12.99 12.79        \n",
       "5 2017-02-13 13:57:51 199.90 18.14        \n",
       "6 2017-05-23 03:55:27  21.90 12.69        "
      ]
     },
     "metadata": {},
     "output_type": "display_data"
    }
   ],
   "source": [
    "order_items = readSQL(\"SELECT * FROM order_items\")\n",
    "head(order_items)"
   ]
  },
  {
   "cell_type": "code",
   "execution_count": 9,
   "metadata": {},
   "outputs": [
    {
     "data": {
      "text/html": [
       "<ol class=list-inline>\n",
       "\t<li>99891</li>\n",
       "\t<li>3</li>\n",
       "</ol>\n"
      ],
      "text/latex": [
       "\\begin{enumerate*}\n",
       "\\item 99891\n",
       "\\item 3\n",
       "\\end{enumerate*}\n"
      ],
      "text/markdown": [
       "1. 99891\n",
       "2. 3\n",
       "\n",
       "\n"
      ],
      "text/plain": [
       "[1] 99891     3"
      ]
     },
     "metadata": {},
     "output_type": "display_data"
    },
    {
     "data": {
      "text/html": [
       "<table>\n",
       "<thead><tr><th scope=col>seller_id</th><th scope=col>transaction_date</th><th scope=col>transactions_count</th></tr></thead>\n",
       "<tbody>\n",
       "\t<tr><td>0015a82c2db000af6aaaf3ae2ecb0532</td><td>2017-09-26 22:17:05             </td><td>1                               </td></tr>\n",
       "\t<tr><td>0015a82c2db000af6aaaf3ae2ecb0532</td><td>2017-10-12 13:33:22             </td><td>1                               </td></tr>\n",
       "\t<tr><td>0015a82c2db000af6aaaf3ae2ecb0532</td><td>2017-10-18 08:16:34             </td><td>1                               </td></tr>\n",
       "\t<tr><td>001cca7ae9ae17fb1caed9dfb1094831</td><td>2017-02-04 19:06:04             </td><td>1                               </td></tr>\n",
       "\t<tr><td>001cca7ae9ae17fb1caed9dfb1094831</td><td>2017-02-18 23:26:24             </td><td>5                               </td></tr>\n",
       "\t<tr><td>001cca7ae9ae17fb1caed9dfb1094831</td><td>2017-02-23 11:42:38             </td><td>1                               </td></tr>\n",
       "</tbody>\n",
       "</table>\n"
      ],
      "text/latex": [
       "\\begin{tabular}{r|lll}\n",
       " seller\\_id & transaction\\_date & transactions\\_count\\\\\n",
       "\\hline\n",
       "\t 0015a82c2db000af6aaaf3ae2ecb0532 & 2017-09-26 22:17:05              & 1                               \\\\\n",
       "\t 0015a82c2db000af6aaaf3ae2ecb0532 & 2017-10-12 13:33:22              & 1                               \\\\\n",
       "\t 0015a82c2db000af6aaaf3ae2ecb0532 & 2017-10-18 08:16:34              & 1                               \\\\\n",
       "\t 001cca7ae9ae17fb1caed9dfb1094831 & 2017-02-04 19:06:04              & 1                               \\\\\n",
       "\t 001cca7ae9ae17fb1caed9dfb1094831 & 2017-02-18 23:26:24              & 5                               \\\\\n",
       "\t 001cca7ae9ae17fb1caed9dfb1094831 & 2017-02-23 11:42:38              & 1                               \\\\\n",
       "\\end{tabular}\n"
      ],
      "text/markdown": [
       "\n",
       "seller_id | transaction_date | transactions_count | \n",
       "|---|---|---|---|---|---|\n",
       "| 0015a82c2db000af6aaaf3ae2ecb0532 | 2017-09-26 22:17:05              | 1                                | \n",
       "| 0015a82c2db000af6aaaf3ae2ecb0532 | 2017-10-12 13:33:22              | 1                                | \n",
       "| 0015a82c2db000af6aaaf3ae2ecb0532 | 2017-10-18 08:16:34              | 1                                | \n",
       "| 001cca7ae9ae17fb1caed9dfb1094831 | 2017-02-04 19:06:04              | 1                                | \n",
       "| 001cca7ae9ae17fb1caed9dfb1094831 | 2017-02-18 23:26:24              | 5                                | \n",
       "| 001cca7ae9ae17fb1caed9dfb1094831 | 2017-02-23 11:42:38              | 1                                | \n",
       "\n",
       "\n"
      ],
      "text/plain": [
       "  seller_id                        transaction_date    transactions_count\n",
       "1 0015a82c2db000af6aaaf3ae2ecb0532 2017-09-26 22:17:05 1                 \n",
       "2 0015a82c2db000af6aaaf3ae2ecb0532 2017-10-12 13:33:22 1                 \n",
       "3 0015a82c2db000af6aaaf3ae2ecb0532 2017-10-18 08:16:34 1                 \n",
       "4 001cca7ae9ae17fb1caed9dfb1094831 2017-02-04 19:06:04 1                 \n",
       "5 001cca7ae9ae17fb1caed9dfb1094831 2017-02-18 23:26:24 5                 \n",
       "6 001cca7ae9ae17fb1caed9dfb1094831 2017-02-23 11:42:38 1                 "
      ]
     },
     "metadata": {},
     "output_type": "display_data"
    }
   ],
   "source": [
    "query <- \"\n",
    "SELECT a.seller_id, b.order_purchase_timestamp AS transaction_date, COUNT(1) AS transactions_count\n",
    "FROM order_items a\n",
    "INNER JOIN orders b\n",
    "    ON a.order_id = b.order_id\n",
    "GROUP BY a.seller_id, b.order_purchase_timestamp\n",
    "\"\n",
    "\n",
    "seller_transactions = readSQL(query)\n",
    "dim(seller_transactions)\n",
    "head(seller_transactions)"
   ]
  },
  {
   "cell_type": "code",
   "execution_count": 34,
   "metadata": {},
   "outputs": [
    {
     "data": {
      "text/html": [
       "<ol class=list-inline>\n",
       "\t<li>3095</li>\n",
       "\t<li>4</li>\n",
       "</ol>\n"
      ],
      "text/latex": [
       "\\begin{enumerate*}\n",
       "\\item 3095\n",
       "\\item 4\n",
       "\\end{enumerate*}\n"
      ],
      "text/markdown": [
       "1. 3095\n",
       "2. 4\n",
       "\n",
       "\n"
      ],
      "text/plain": [
       "[1] 3095    4"
      ]
     },
     "metadata": {},
     "output_type": "display_data"
    },
    {
     "data": {
      "text/html": [
       "<table>\n",
       "<thead><tr><th scope=col>seller_id</th><th scope=col>first_date</th><th scope=col>last_date</th><th scope=col>time_in_market</th></tr></thead>\n",
       "<tbody>\n",
       "\t<tr><td>0015a82c2db000af6aaaf3ae2ecb0532</td><td>2017-09-26                      </td><td>2017-10-18                      </td><td> 22 days                        </td></tr>\n",
       "\t<tr><td>001cca7ae9ae17fb1caed9dfb1094831</td><td>2017-02-04                      </td><td>2018-07-12                      </td><td>523 days                        </td></tr>\n",
       "\t<tr><td>001e6ad469a905060d959994f1b41e4f</td><td>2018-08-07                      </td><td>2018-08-07                      </td><td>  0 days                        </td></tr>\n",
       "\t<tr><td>002100f778ceb8431b7a1020ff7ab48f</td><td>2017-09-14                      </td><td>2018-04-12                      </td><td>210 days                        </td></tr>\n",
       "\t<tr><td>003554e2dce176b5555353e4f3555ac8</td><td>2017-12-15                      </td><td>2017-12-15                      </td><td>  0 days                        </td></tr>\n",
       "\t<tr><td>004c9cd9d87a3c30c522c48c4fc07416</td><td>2017-01-27                      </td><td>2018-05-03                      </td><td>461 days                        </td></tr>\n",
       "</tbody>\n",
       "</table>\n"
      ],
      "text/latex": [
       "\\begin{tabular}{r|llll}\n",
       " seller\\_id & first\\_date & last\\_date & time\\_in\\_market\\\\\n",
       "\\hline\n",
       "\t 0015a82c2db000af6aaaf3ae2ecb0532 & 2017-09-26                       & 2017-10-18                       &  22 days                        \\\\\n",
       "\t 001cca7ae9ae17fb1caed9dfb1094831 & 2017-02-04                       & 2018-07-12                       & 523 days                        \\\\\n",
       "\t 001e6ad469a905060d959994f1b41e4f & 2018-08-07                       & 2018-08-07                       &   0 days                        \\\\\n",
       "\t 002100f778ceb8431b7a1020ff7ab48f & 2017-09-14                       & 2018-04-12                       & 210 days                        \\\\\n",
       "\t 003554e2dce176b5555353e4f3555ac8 & 2017-12-15                       & 2017-12-15                       &   0 days                        \\\\\n",
       "\t 004c9cd9d87a3c30c522c48c4fc07416 & 2017-01-27                       & 2018-05-03                       & 461 days                        \\\\\n",
       "\\end{tabular}\n"
      ],
      "text/markdown": [
       "\n",
       "seller_id | first_date | last_date | time_in_market | \n",
       "|---|---|---|---|---|---|\n",
       "| 0015a82c2db000af6aaaf3ae2ecb0532 | 2017-09-26                       | 2017-10-18                       |  22 days                         | \n",
       "| 001cca7ae9ae17fb1caed9dfb1094831 | 2017-02-04                       | 2018-07-12                       | 523 days                         | \n",
       "| 001e6ad469a905060d959994f1b41e4f | 2018-08-07                       | 2018-08-07                       |   0 days                         | \n",
       "| 002100f778ceb8431b7a1020ff7ab48f | 2017-09-14                       | 2018-04-12                       | 210 days                         | \n",
       "| 003554e2dce176b5555353e4f3555ac8 | 2017-12-15                       | 2017-12-15                       |   0 days                         | \n",
       "| 004c9cd9d87a3c30c522c48c4fc07416 | 2017-01-27                       | 2018-05-03                       | 461 days                         | \n",
       "\n",
       "\n"
      ],
      "text/plain": [
       "  seller_id                        first_date last_date  time_in_market\n",
       "1 0015a82c2db000af6aaaf3ae2ecb0532 2017-09-26 2017-10-18  22 days      \n",
       "2 001cca7ae9ae17fb1caed9dfb1094831 2017-02-04 2018-07-12 523 days      \n",
       "3 001e6ad469a905060d959994f1b41e4f 2018-08-07 2018-08-07   0 days      \n",
       "4 002100f778ceb8431b7a1020ff7ab48f 2017-09-14 2018-04-12 210 days      \n",
       "5 003554e2dce176b5555353e4f3555ac8 2017-12-15 2017-12-15   0 days      \n",
       "6 004c9cd9d87a3c30c522c48c4fc07416 2017-01-27 2018-05-03 461 days      "
      ]
     },
     "metadata": {},
     "output_type": "display_data"
    }
   ],
   "source": [
    "seller_times <- seller_transactions %>% \n",
    "    group_by(seller_id) %>% \n",
    "    summarise(first_date=min(as.Date(transaction_date)), last_date=max(as.Date(transaction_date)),\n",
    "             time_in_market=max(as.Date(transaction_date)) - min(as.Date(transaction_date)))\n",
    "dim(seller_times)\n",
    "head(seller_times)\n",
    "\n",
    "## write table to sqlite for later use!\n",
    "writeSQL(seller_times,\"seller_times\")"
   ]
  },
  {
   "cell_type": "code",
   "execution_count": 11,
   "metadata": {},
   "outputs": [
    {
     "data": {
      "text/html": [
       "<time datetime=\"2018-09-03\">2018-09-03</time>"
      ],
      "text/latex": [
       "2018-09-03"
      ],
      "text/markdown": [
       "2018-09-03"
      ],
      "text/plain": [
       "[1] \"2018-09-03\""
      ]
     },
     "metadata": {},
     "output_type": "display_data"
    },
    {
     "data": {
      "text/html": [
       "<table>\n",
       "<thead><tr><th scope=col>seller_id</th><th scope=col>first_date</th><th scope=col>last_date</th><th scope=col>time_in_market</th><th scope=col>time_to_end</th></tr></thead>\n",
       "<tbody>\n",
       "\t<tr><td>0015a82c2db000af6aaaf3ae2ecb0532</td><td>2017-09-26                      </td><td>2017-10-18                      </td><td> 22 days                        </td><td>226 days                        </td></tr>\n",
       "\t<tr><td>001cca7ae9ae17fb1caed9dfb1094831</td><td>2017-02-04                      </td><td>2018-07-12                      </td><td>523 days                        </td><td>-41 days                        </td></tr>\n",
       "\t<tr><td>001e6ad469a905060d959994f1b41e4f</td><td>2018-08-07                      </td><td>2018-08-07                      </td><td>  0 days                        </td><td>-67 days                        </td></tr>\n",
       "\t<tr><td>002100f778ceb8431b7a1020ff7ab48f</td><td>2017-09-14                      </td><td>2018-04-12                      </td><td>210 days                        </td><td> 50 days                        </td></tr>\n",
       "\t<tr><td>003554e2dce176b5555353e4f3555ac8</td><td>2017-12-15                      </td><td>2017-12-15                      </td><td>  0 days                        </td><td>168 days                        </td></tr>\n",
       "\t<tr><td>004c9cd9d87a3c30c522c48c4fc07416</td><td>2017-01-27                      </td><td>2018-05-03                      </td><td>461 days                        </td><td> 29 days                        </td></tr>\n",
       "</tbody>\n",
       "</table>\n"
      ],
      "text/latex": [
       "\\begin{tabular}{r|lllll}\n",
       " seller\\_id & first\\_date & last\\_date & time\\_in\\_market & time\\_to\\_end\\\\\n",
       "\\hline\n",
       "\t 0015a82c2db000af6aaaf3ae2ecb0532 & 2017-09-26                       & 2017-10-18                       &  22 days                         & 226 days                        \\\\\n",
       "\t 001cca7ae9ae17fb1caed9dfb1094831 & 2017-02-04                       & 2018-07-12                       & 523 days                         & -41 days                        \\\\\n",
       "\t 001e6ad469a905060d959994f1b41e4f & 2018-08-07                       & 2018-08-07                       &   0 days                         & -67 days                        \\\\\n",
       "\t 002100f778ceb8431b7a1020ff7ab48f & 2017-09-14                       & 2018-04-12                       & 210 days                         &  50 days                        \\\\\n",
       "\t 003554e2dce176b5555353e4f3555ac8 & 2017-12-15                       & 2017-12-15                       &   0 days                         & 168 days                        \\\\\n",
       "\t 004c9cd9d87a3c30c522c48c4fc07416 & 2017-01-27                       & 2018-05-03                       & 461 days                         &  29 days                        \\\\\n",
       "\\end{tabular}\n"
      ],
      "text/markdown": [
       "\n",
       "seller_id | first_date | last_date | time_in_market | time_to_end | \n",
       "|---|---|---|---|---|---|\n",
       "| 0015a82c2db000af6aaaf3ae2ecb0532 | 2017-09-26                       | 2017-10-18                       |  22 days                         | 226 days                         | \n",
       "| 001cca7ae9ae17fb1caed9dfb1094831 | 2017-02-04                       | 2018-07-12                       | 523 days                         | -41 days                         | \n",
       "| 001e6ad469a905060d959994f1b41e4f | 2018-08-07                       | 2018-08-07                       |   0 days                         | -67 days                         | \n",
       "| 002100f778ceb8431b7a1020ff7ab48f | 2017-09-14                       | 2018-04-12                       | 210 days                         |  50 days                         | \n",
       "| 003554e2dce176b5555353e4f3555ac8 | 2017-12-15                       | 2017-12-15                       |   0 days                         | 168 days                         | \n",
       "| 004c9cd9d87a3c30c522c48c4fc07416 | 2017-01-27                       | 2018-05-03                       | 461 days                         |  29 days                         | \n",
       "\n",
       "\n"
      ],
      "text/plain": [
       "  seller_id                        first_date last_date  time_in_market\n",
       "1 0015a82c2db000af6aaaf3ae2ecb0532 2017-09-26 2017-10-18  22 days      \n",
       "2 001cca7ae9ae17fb1caed9dfb1094831 2017-02-04 2018-07-12 523 days      \n",
       "3 001e6ad469a905060d959994f1b41e4f 2018-08-07 2018-08-07   0 days      \n",
       "4 002100f778ceb8431b7a1020ff7ab48f 2017-09-14 2018-04-12 210 days      \n",
       "5 003554e2dce176b5555353e4f3555ac8 2017-12-15 2017-12-15   0 days      \n",
       "6 004c9cd9d87a3c30c522c48c4fc07416 2017-01-27 2018-05-03 461 days      \n",
       "  time_to_end\n",
       "1 226 days   \n",
       "2 -41 days   \n",
       "3 -67 days   \n",
       "4  50 days   \n",
       "5 168 days   \n",
       "6  29 days   "
      ]
     },
     "metadata": {},
     "output_type": "display_data"
    }
   ],
   "source": [
    "## We need to get at least 3 month of follow-up data to define our outcome !!!\n",
    "max(seller_times$last_date)\n",
    "seller_times$time_to_end <- as.Date('2018-06-01') - seller_times$last_date \n",
    "head(seller_times)"
   ]
  },
  {
   "cell_type": "code",
   "execution_count": 12,
   "metadata": {},
   "outputs": [
    {
     "data": {
      "text/html": [
       "903"
      ],
      "text/latex": [
       "903"
      ],
      "text/markdown": [
       "903"
      ],
      "text/plain": [
       "[1] 903"
      ]
     },
     "metadata": {},
     "output_type": "display_data"
    },
    {
     "data": {
      "text/html": [
       "332"
      ],
      "text/latex": [
       "332"
      ],
      "text/markdown": [
       "332"
      ],
      "text/plain": [
       "[1] 332"
      ]
     },
     "metadata": {},
     "output_type": "display_data"
    }
   ],
   "source": [
    "nrow(seller_times %>% filter(time_to_end >= 90))\n",
    "nrow(seller_times %>% filter(time_in_market >= 90 & time_to_end >= 90))\n"
   ]
  },
  {
   "cell_type": "markdown",
   "metadata": {},
   "source": [
    "As we see, there are only 903 sellers that entered at least three months before the maximum follow up period. Of them, 332 sellers were on market for more than 90 days (3 months). Based on this we will add to the seller dataframe the outcome:"
   ]
  },
  {
   "cell_type": "code",
   "execution_count": 23,
   "metadata": {},
   "outputs": [
    {
     "data": {
      "text/html": [
       "<table>\n",
       "<thead><tr><th scope=col>seller_id</th><th scope=col>first_date</th><th scope=col>last_date</th><th scope=col>time_in_market</th><th scope=col>time_to_end</th><th scope=col>outcome</th></tr></thead>\n",
       "<tbody>\n",
       "\t<tr><td>0015a82c2db000af6aaaf3ae2ecb0532</td><td>2017-09-26                      </td><td>2017-10-18                      </td><td> 22 days                        </td><td>226 days                        </td><td>0                               </td></tr>\n",
       "\t<tr><td>003554e2dce176b5555353e4f3555ac8</td><td>2017-12-15                      </td><td>2017-12-15                      </td><td>  0 days                        </td><td>168 days                        </td><td>0                               </td></tr>\n",
       "\t<tr><td>00ab3eff1b5192e5f1a63bcecfee11c8</td><td>2017-03-18                      </td><td>2017-03-18                      </td><td>  0 days                        </td><td>440 days                        </td><td>0                               </td></tr>\n",
       "\t<tr><td>010543a62bd80aa422851e79a3bc7540</td><td>2017-07-04                      </td><td>2017-08-02                      </td><td> 29 days                        </td><td>303 days                        </td><td>0                               </td></tr>\n",
       "\t<tr><td>011b0eaba87386a2ae96a7d32bb531d1</td><td>2016-10-06                      </td><td>2016-10-06                      </td><td>  0 days                        </td><td>603 days                        </td><td>0                               </td></tr>\n",
       "\t<tr><td>01bcc9d254a0143f0ce9791b960b2a47</td><td>2017-08-12                      </td><td>2018-02-02                      </td><td>174 days                        </td><td>119 days                        </td><td>1                               </td></tr>\n",
       "</tbody>\n",
       "</table>\n"
      ],
      "text/latex": [
       "\\begin{tabular}{r|llllll}\n",
       " seller\\_id & first\\_date & last\\_date & time\\_in\\_market & time\\_to\\_end & outcome\\\\\n",
       "\\hline\n",
       "\t 0015a82c2db000af6aaaf3ae2ecb0532 & 2017-09-26                       & 2017-10-18                       &  22 days                         & 226 days                         & 0                               \\\\\n",
       "\t 003554e2dce176b5555353e4f3555ac8 & 2017-12-15                       & 2017-12-15                       &   0 days                         & 168 days                         & 0                               \\\\\n",
       "\t 00ab3eff1b5192e5f1a63bcecfee11c8 & 2017-03-18                       & 2017-03-18                       &   0 days                         & 440 days                         & 0                               \\\\\n",
       "\t 010543a62bd80aa422851e79a3bc7540 & 2017-07-04                       & 2017-08-02                       &  29 days                         & 303 days                         & 0                               \\\\\n",
       "\t 011b0eaba87386a2ae96a7d32bb531d1 & 2016-10-06                       & 2016-10-06                       &   0 days                         & 603 days                         & 0                               \\\\\n",
       "\t 01bcc9d254a0143f0ce9791b960b2a47 & 2017-08-12                       & 2018-02-02                       & 174 days                         & 119 days                         & 1                               \\\\\n",
       "\\end{tabular}\n"
      ],
      "text/markdown": [
       "\n",
       "seller_id | first_date | last_date | time_in_market | time_to_end | outcome | \n",
       "|---|---|---|---|---|---|\n",
       "| 0015a82c2db000af6aaaf3ae2ecb0532 | 2017-09-26                       | 2017-10-18                       |  22 days                         | 226 days                         | 0                                | \n",
       "| 003554e2dce176b5555353e4f3555ac8 | 2017-12-15                       | 2017-12-15                       |   0 days                         | 168 days                         | 0                                | \n",
       "| 00ab3eff1b5192e5f1a63bcecfee11c8 | 2017-03-18                       | 2017-03-18                       |   0 days                         | 440 days                         | 0                                | \n",
       "| 010543a62bd80aa422851e79a3bc7540 | 2017-07-04                       | 2017-08-02                       |  29 days                         | 303 days                         | 0                                | \n",
       "| 011b0eaba87386a2ae96a7d32bb531d1 | 2016-10-06                       | 2016-10-06                       |   0 days                         | 603 days                         | 0                                | \n",
       "| 01bcc9d254a0143f0ce9791b960b2a47 | 2017-08-12                       | 2018-02-02                       | 174 days                         | 119 days                         | 1                                | \n",
       "\n",
       "\n"
      ],
      "text/plain": [
       "  seller_id                        first_date last_date  time_in_market\n",
       "1 0015a82c2db000af6aaaf3ae2ecb0532 2017-09-26 2017-10-18  22 days      \n",
       "2 003554e2dce176b5555353e4f3555ac8 2017-12-15 2017-12-15   0 days      \n",
       "3 00ab3eff1b5192e5f1a63bcecfee11c8 2017-03-18 2017-03-18   0 days      \n",
       "4 010543a62bd80aa422851e79a3bc7540 2017-07-04 2017-08-02  29 days      \n",
       "5 011b0eaba87386a2ae96a7d32bb531d1 2016-10-06 2016-10-06   0 days      \n",
       "6 01bcc9d254a0143f0ce9791b960b2a47 2017-08-12 2018-02-02 174 days      \n",
       "  time_to_end outcome\n",
       "1 226 days    0      \n",
       "2 168 days    0      \n",
       "3 440 days    0      \n",
       "4 303 days    0      \n",
       "5 603 days    0      \n",
       "6 119 days    1      "
      ]
     },
     "metadata": {},
     "output_type": "display_data"
    },
    {
     "data": {
      "text/html": [
       "903"
      ],
      "text/latex": [
       "903"
      ],
      "text/markdown": [
       "903"
      ],
      "text/plain": [
       "[1] 903"
      ]
     },
     "metadata": {},
     "output_type": "display_data"
    }
   ],
   "source": [
    "seller_times  <- seller_times %>% filter(time_to_end >= 90) %>% mutate(outcome=ifelse(time_in_market >= 90,1,0))\n",
    "head(seller_times)\n",
    "nrow(seller_times)"
   ]
  },
  {
   "cell_type": "markdown",
   "metadata": {},
   "source": [
    "Now, we will join the sellers dataframe with the seller_times, which has the outcome variable. As we don't need the dates and the time in market variables on our flat file, we ignore them. "
   ]
  },
  {
   "cell_type": "code",
   "execution_count": 24,
   "metadata": {},
   "outputs": [
    {
     "name": "stderr",
     "output_type": "stream",
     "text": [
      "Joining, by = c(\"seller_id\", \"outcome\")\n"
     ]
    },
    {
     "data": {
      "text/html": [
       "<table>\n",
       "<thead><tr><th scope=col>seller_id</th><th scope=col>outcome</th><th scope=col>seller_zip_code_prefix</th><th scope=col>seller_city</th><th scope=col>seller_state</th><th scope=col>categories_count</th><th scope=col>products_count</th><th scope=col>cat_1</th><th scope=col>cat_2</th><th scope=col>cat_3</th><th scope=col>⋯</th><th scope=col>cat_65</th><th scope=col>cat_66</th><th scope=col>cat_67</th><th scope=col>cat_68</th><th scope=col>cat_69</th><th scope=col>cat_70</th><th scope=col>cat_71</th><th scope=col>cat_72</th><th scope=col>cat_73</th><th scope=col>cat_74</th></tr></thead>\n",
       "<tbody>\n",
       "\t<tr><td>0015a82c2db000af6aaaf3ae2ecb0532</td><td>0                               </td><td> 9080                           </td><td>santo andre                     </td><td>SP                              </td><td>1                               </td><td>1                               </td><td>0                               </td><td>0                               </td><td>0                               </td><td>⋯                               </td><td>0                               </td><td>0                               </td><td>0                               </td><td>0                               </td><td>0                               </td><td>0                               </td><td>0                               </td><td>0                               </td><td>0                               </td><td>0                               </td></tr>\n",
       "\t<tr><td>003554e2dce176b5555353e4f3555ac8</td><td>0                               </td><td>74565                           </td><td>goiania                         </td><td>GO                              </td><td>1                               </td><td>1                               </td><td>1                               </td><td>0                               </td><td>0                               </td><td>⋯                               </td><td>0                               </td><td>0                               </td><td>0                               </td><td>0                               </td><td>0                               </td><td>0                               </td><td>0                               </td><td>0                               </td><td>0                               </td><td>0                               </td></tr>\n",
       "\t<tr><td>00ab3eff1b5192e5f1a63bcecfee11c8</td><td>0                               </td><td> 4164                           </td><td>sao paulo                       </td><td>SP                              </td><td>1                               </td><td>1                               </td><td>0                               </td><td>0                               </td><td>0                               </td><td>⋯                               </td><td>0                               </td><td>0                               </td><td>0                               </td><td>0                               </td><td>0                               </td><td>0                               </td><td>0                               </td><td>0                               </td><td>0                               </td><td>0                               </td></tr>\n",
       "\t<tr><td>010543a62bd80aa422851e79a3bc7540</td><td>0                               </td><td> 1212                           </td><td>sao paulo                       </td><td>SP                              </td><td>1                               </td><td>1                               </td><td>0                               </td><td>0                               </td><td>0                               </td><td>⋯                               </td><td>0                               </td><td>0                               </td><td>0                               </td><td>0                               </td><td>0                               </td><td>0                               </td><td>0                               </td><td>0                               </td><td>0                               </td><td>0                               </td></tr>\n",
       "\t<tr><td>011b0eaba87386a2ae96a7d32bb531d1</td><td>0                               </td><td>17580                           </td><td>pompeia                         </td><td>SP                              </td><td>1                               </td><td>1                               </td><td>0                               </td><td>0                               </td><td>0                               </td><td>⋯                               </td><td>0                               </td><td>0                               </td><td>0                               </td><td>0                               </td><td>0                               </td><td>0                               </td><td>0                               </td><td>0                               </td><td>0                               </td><td>0                               </td></tr>\n",
       "\t<tr><td>01bcc9d254a0143f0ce9791b960b2a47</td><td>1                               </td><td>76400                           </td><td>uruacu                          </td><td>GO                              </td><td>1                               </td><td>3                               </td><td>0                               </td><td>0                               </td><td>0                               </td><td>⋯                               </td><td>0                               </td><td>0                               </td><td>0                               </td><td>0                               </td><td>0                               </td><td>0                               </td><td>0                               </td><td>0                               </td><td>0                               </td><td>0                               </td></tr>\n",
       "</tbody>\n",
       "</table>\n"
      ],
      "text/latex": [
       "\\begin{tabular}{r|lllllllllllllllllllllllllllllllllllllllllllllllllllllllllllllllllllllllllllllllll}\n",
       " seller\\_id & outcome & seller\\_zip\\_code\\_prefix & seller\\_city & seller\\_state & categories\\_count & products\\_count & cat\\_1 & cat\\_2 & cat\\_3 & ⋯ & cat\\_65 & cat\\_66 & cat\\_67 & cat\\_68 & cat\\_69 & cat\\_70 & cat\\_71 & cat\\_72 & cat\\_73 & cat\\_74\\\\\n",
       "\\hline\n",
       "\t 0015a82c2db000af6aaaf3ae2ecb0532 & 0                                &  9080                            & santo andre                      & SP                               & 1                                & 1                                & 0                                & 0                                & 0                                & ⋯                                & 0                                & 0                                & 0                                & 0                                & 0                                & 0                                & 0                                & 0                                & 0                                & 0                               \\\\\n",
       "\t 003554e2dce176b5555353e4f3555ac8 & 0                                & 74565                            & goiania                          & GO                               & 1                                & 1                                & 1                                & 0                                & 0                                & ⋯                                & 0                                & 0                                & 0                                & 0                                & 0                                & 0                                & 0                                & 0                                & 0                                & 0                               \\\\\n",
       "\t 00ab3eff1b5192e5f1a63bcecfee11c8 & 0                                &  4164                            & sao paulo                        & SP                               & 1                                & 1                                & 0                                & 0                                & 0                                & ⋯                                & 0                                & 0                                & 0                                & 0                                & 0                                & 0                                & 0                                & 0                                & 0                                & 0                               \\\\\n",
       "\t 010543a62bd80aa422851e79a3bc7540 & 0                                &  1212                            & sao paulo                        & SP                               & 1                                & 1                                & 0                                & 0                                & 0                                & ⋯                                & 0                                & 0                                & 0                                & 0                                & 0                                & 0                                & 0                                & 0                                & 0                                & 0                               \\\\\n",
       "\t 011b0eaba87386a2ae96a7d32bb531d1 & 0                                & 17580                            & pompeia                          & SP                               & 1                                & 1                                & 0                                & 0                                & 0                                & ⋯                                & 0                                & 0                                & 0                                & 0                                & 0                                & 0                                & 0                                & 0                                & 0                                & 0                               \\\\\n",
       "\t 01bcc9d254a0143f0ce9791b960b2a47 & 1                                & 76400                            & uruacu                           & GO                               & 1                                & 3                                & 0                                & 0                                & 0                                & ⋯                                & 0                                & 0                                & 0                                & 0                                & 0                                & 0                                & 0                                & 0                                & 0                                & 0                               \\\\\n",
       "\\end{tabular}\n"
      ],
      "text/markdown": [
       "\n",
       "seller_id | outcome | seller_zip_code_prefix | seller_city | seller_state | categories_count | products_count | cat_1 | cat_2 | cat_3 | ⋯ | cat_65 | cat_66 | cat_67 | cat_68 | cat_69 | cat_70 | cat_71 | cat_72 | cat_73 | cat_74 | \n",
       "|---|---|---|---|---|---|\n",
       "| 0015a82c2db000af6aaaf3ae2ecb0532 | 0                                |  9080                            | santo andre                      | SP                               | 1                                | 1                                | 0                                | 0                                | 0                                | ⋯                                | 0                                | 0                                | 0                                | 0                                | 0                                | 0                                | 0                                | 0                                | 0                                | 0                                | \n",
       "| 003554e2dce176b5555353e4f3555ac8 | 0                                | 74565                            | goiania                          | GO                               | 1                                | 1                                | 1                                | 0                                | 0                                | ⋯                                | 0                                | 0                                | 0                                | 0                                | 0                                | 0                                | 0                                | 0                                | 0                                | 0                                | \n",
       "| 00ab3eff1b5192e5f1a63bcecfee11c8 | 0                                |  4164                            | sao paulo                        | SP                               | 1                                | 1                                | 0                                | 0                                | 0                                | ⋯                                | 0                                | 0                                | 0                                | 0                                | 0                                | 0                                | 0                                | 0                                | 0                                | 0                                | \n",
       "| 010543a62bd80aa422851e79a3bc7540 | 0                                |  1212                            | sao paulo                        | SP                               | 1                                | 1                                | 0                                | 0                                | 0                                | ⋯                                | 0                                | 0                                | 0                                | 0                                | 0                                | 0                                | 0                                | 0                                | 0                                | 0                                | \n",
       "| 011b0eaba87386a2ae96a7d32bb531d1 | 0                                | 17580                            | pompeia                          | SP                               | 1                                | 1                                | 0                                | 0                                | 0                                | ⋯                                | 0                                | 0                                | 0                                | 0                                | 0                                | 0                                | 0                                | 0                                | 0                                | 0                                | \n",
       "| 01bcc9d254a0143f0ce9791b960b2a47 | 1                                | 76400                            | uruacu                           | GO                               | 1                                | 3                                | 0                                | 0                                | 0                                | ⋯                                | 0                                | 0                                | 0                                | 0                                | 0                                | 0                                | 0                                | 0                                | 0                                | 0                                | \n",
       "\n",
       "\n"
      ],
      "text/plain": [
       "  seller_id                        outcome seller_zip_code_prefix seller_city\n",
       "1 0015a82c2db000af6aaaf3ae2ecb0532 0        9080                  santo andre\n",
       "2 003554e2dce176b5555353e4f3555ac8 0       74565                  goiania    \n",
       "3 00ab3eff1b5192e5f1a63bcecfee11c8 0        4164                  sao paulo  \n",
       "4 010543a62bd80aa422851e79a3bc7540 0        1212                  sao paulo  \n",
       "5 011b0eaba87386a2ae96a7d32bb531d1 0       17580                  pompeia    \n",
       "6 01bcc9d254a0143f0ce9791b960b2a47 1       76400                  uruacu     \n",
       "  seller_state categories_count products_count cat_1 cat_2 cat_3 ⋯ cat_65\n",
       "1 SP           1                1              0     0     0     ⋯ 0     \n",
       "2 GO           1                1              1     0     0     ⋯ 0     \n",
       "3 SP           1                1              0     0     0     ⋯ 0     \n",
       "4 SP           1                1              0     0     0     ⋯ 0     \n",
       "5 SP           1                1              0     0     0     ⋯ 0     \n",
       "6 GO           1                3              0     0     0     ⋯ 0     \n",
       "  cat_66 cat_67 cat_68 cat_69 cat_70 cat_71 cat_72 cat_73 cat_74\n",
       "1 0      0      0      0      0      0      0      0      0     \n",
       "2 0      0      0      0      0      0      0      0      0     \n",
       "3 0      0      0      0      0      0      0      0      0     \n",
       "4 0      0      0      0      0      0      0      0      0     \n",
       "5 0      0      0      0      0      0      0      0      0     \n",
       "6 0      0      0      0      0      0      0      0      0     "
      ]
     },
     "metadata": {},
     "output_type": "display_data"
    },
    {
     "data": {
      "text/html": [
       "903"
      ],
      "text/latex": [
       "903"
      ],
      "text/markdown": [
       "903"
      ],
      "text/plain": [
       "[1] 903"
      ]
     },
     "metadata": {},
     "output_type": "display_data"
    }
   ],
   "source": [
    "sellers <- inner_join(seller_times[,c(\"seller_id\",\"outcome\")], sellers)\n",
    "head(sellers)\n",
    "nrow(sellers)"
   ]
  },
  {
   "cell_type": "markdown",
   "metadata": {},
   "source": [
    "The next step is to add the variables that we think will help us in our modeling work. The variables shoul not indicate future behaviours. Only variables that were known at the time of the first time entering Olist. However, as we don't know when the variables were introduced and for the purpose of this exercise, we will peek some of them that has the highest probability to be known at entering time. \n",
    " \n",
    "On real projects, our customer have this data and we have to be sure we have access to it. \n",
    " \n",
    "We will begin with the products. We will add the categories that the seller is selling. We need first to know how many categories there are, the maximum number of categories the sellers are offering, etc."
   ]
  },
  {
   "cell_type": "code",
   "execution_count": 35,
   "metadata": {},
   "outputs": [
    {
     "data": {
      "text/html": [
       "<ol class=list-inline>\n",
       "\t<li>6616</li>\n",
       "\t<li>3</li>\n",
       "</ol>\n"
      ],
      "text/latex": [
       "\\begin{enumerate*}\n",
       "\\item 6616\n",
       "\\item 3\n",
       "\\end{enumerate*}\n"
      ],
      "text/markdown": [
       "1. 6616\n",
       "2. 3\n",
       "\n",
       "\n"
      ],
      "text/plain": [
       "[1] 6616    3"
      ]
     },
     "metadata": {},
     "output_type": "display_data"
    },
    {
     "data": {
      "text/html": [
       "<table>\n",
       "<thead><tr><th scope=col>seller_id</th><th scope=col>product_category_name</th><th scope=col>products_count</th></tr></thead>\n",
       "<tbody>\n",
       "\t<tr><td>0015a82c2db000af6aaaf3ae2ecb0532 </td><td>eletroportateis                  </td><td> 1                               </td></tr>\n",
       "\t<tr><td>001cca7ae9ae17fb1caed9dfb1094831 </td><td>construcao_ferramentas_construcao</td><td> 5                               </td></tr>\n",
       "\t<tr><td>001cca7ae9ae17fb1caed9dfb1094831 </td><td>ferramentas_jardim               </td><td> 6                               </td></tr>\n",
       "\t<tr><td>001e6ad469a905060d959994f1b41e4f </td><td>esporte_lazer                    </td><td> 1                               </td></tr>\n",
       "\t<tr><td>002100f778ceb8431b7a1020ff7ab48f </td><td>moveis_decoracao                 </td><td>24                               </td></tr>\n",
       "\t<tr><td>003554e2dce176b5555353e4f3555ac8 </td><td>                                 </td><td> 1                               </td></tr>\n",
       "</tbody>\n",
       "</table>\n"
      ],
      "text/latex": [
       "\\begin{tabular}{r|lll}\n",
       " seller\\_id & product\\_category\\_name & products\\_count\\\\\n",
       "\\hline\n",
       "\t 0015a82c2db000af6aaaf3ae2ecb0532  & eletroportateis                   &  1                               \\\\\n",
       "\t 001cca7ae9ae17fb1caed9dfb1094831      & construcao\\_ferramentas\\_construcao &  5                                   \\\\\n",
       "\t 001cca7ae9ae17fb1caed9dfb1094831    & ferramentas\\_jardim                &  6                                 \\\\\n",
       "\t 001e6ad469a905060d959994f1b41e4f    & esporte\\_lazer                     &  1                                 \\\\\n",
       "\t 002100f778ceb8431b7a1020ff7ab48f    & moveis\\_decoracao                  & 24                                 \\\\\n",
       "\t 003554e2dce176b5555353e4f3555ac8  &                                   &  1                               \\\\\n",
       "\\end{tabular}\n"
      ],
      "text/markdown": [
       "\n",
       "seller_id | product_category_name | products_count | \n",
       "|---|---|---|---|---|---|\n",
       "| 0015a82c2db000af6aaaf3ae2ecb0532  | eletroportateis                   |  1                                | \n",
       "| 001cca7ae9ae17fb1caed9dfb1094831  | construcao_ferramentas_construcao |  5                                | \n",
       "| 001cca7ae9ae17fb1caed9dfb1094831  | ferramentas_jardim                |  6                                | \n",
       "| 001e6ad469a905060d959994f1b41e4f  | esporte_lazer                     |  1                                | \n",
       "| 002100f778ceb8431b7a1020ff7ab48f  | moveis_decoracao                  | 24                                | \n",
       "| 003554e2dce176b5555353e4f3555ac8  |                                   |  1                                | \n",
       "\n",
       "\n"
      ],
      "text/plain": [
       "  seller_id                        product_category_name            \n",
       "1 0015a82c2db000af6aaaf3ae2ecb0532 eletroportateis                  \n",
       "2 001cca7ae9ae17fb1caed9dfb1094831 construcao_ferramentas_construcao\n",
       "3 001cca7ae9ae17fb1caed9dfb1094831 ferramentas_jardim               \n",
       "4 001e6ad469a905060d959994f1b41e4f esporte_lazer                    \n",
       "5 002100f778ceb8431b7a1020ff7ab48f moveis_decoracao                 \n",
       "6 003554e2dce176b5555353e4f3555ac8                                  \n",
       "  products_count\n",
       "1  1            \n",
       "2  5            \n",
       "3  6            \n",
       "4  1            \n",
       "5 24            \n",
       "6  1            "
      ]
     },
     "metadata": {},
     "output_type": "display_data"
    },
    {
     "data": {
      "text/plain": [
       "<SQLiteResult>\n",
       "  SQL  CREATE VIEW seller_prodcat_v AS \n",
       "\n",
       "SELECT a.seller_id, b.product_category_name, COUNT(DISTINCT a.product_id) products_count\n",
       "FROM order_items a\n",
       "INNER JOIN products b\n",
       "    ON a.product_id = b.product_id\n",
       "GROUP BY a.seller_id, b.product_category_name\n",
       "\n",
       "  ROWS Fetched: 0 [complete]\n",
       "       Changed: 0"
      ]
     },
     "metadata": {},
     "output_type": "display_data"
    }
   ],
   "source": [
    "query <- \"\n",
    "SELECT a.seller_id, b.product_category_name, COUNT(DISTINCT a.product_id) products_count\n",
    "FROM order_items a\n",
    "INNER JOIN products b\n",
    "    ON a.product_id = b.product_id\n",
    "GROUP BY a.seller_id, b.product_category_name\n",
    "\"\n",
    "\n",
    "seller_prodcat <- readSQL(query)\n",
    "dim(seller_prodcat)\n",
    "head(seller_prodcat)\n",
    "\n",
    "# write view on sqlite for later use\n",
    "createView(\"seller_prodcat_v\",query)"
   ]
  },
  {
   "cell_type": "code",
   "execution_count": 16,
   "metadata": {},
   "outputs": [
    {
     "data": {
      "text/html": [
       "<table>\n",
       "<thead><tr><th scope=col>categ_count</th><th scope=col>n</th></tr></thead>\n",
       "<tbody>\n",
       "\t<tr><td> 1  </td><td>1689</td></tr>\n",
       "\t<tr><td> 2  </td><td> 690</td></tr>\n",
       "\t<tr><td> 3  </td><td> 285</td></tr>\n",
       "\t<tr><td> 4  </td><td> 149</td></tr>\n",
       "\t<tr><td> 5  </td><td>  94</td></tr>\n",
       "\t<tr><td> 6  </td><td>  55</td></tr>\n",
       "\t<tr><td> 7  </td><td>  39</td></tr>\n",
       "\t<tr><td> 8  </td><td>  27</td></tr>\n",
       "\t<tr><td> 9  </td><td>  17</td></tr>\n",
       "\t<tr><td>10  </td><td>   9</td></tr>\n",
       "\t<tr><td>11  </td><td>  11</td></tr>\n",
       "\t<tr><td>12  </td><td>  11</td></tr>\n",
       "\t<tr><td>13  </td><td>   6</td></tr>\n",
       "\t<tr><td>14  </td><td>   4</td></tr>\n",
       "\t<tr><td>15  </td><td>   3</td></tr>\n",
       "\t<tr><td>17  </td><td>   1</td></tr>\n",
       "\t<tr><td>20  </td><td>   1</td></tr>\n",
       "\t<tr><td>21  </td><td>   1</td></tr>\n",
       "\t<tr><td>23  </td><td>   1</td></tr>\n",
       "\t<tr><td>24  </td><td>   1</td></tr>\n",
       "\t<tr><td>27  </td><td>   1</td></tr>\n",
       "</tbody>\n",
       "</table>\n"
      ],
      "text/latex": [
       "\\begin{tabular}{r|ll}\n",
       " categ\\_count & n\\\\\n",
       "\\hline\n",
       "\t  1   & 1689\\\\\n",
       "\t  2   &  690\\\\\n",
       "\t  3   &  285\\\\\n",
       "\t  4   &  149\\\\\n",
       "\t  5   &   94\\\\\n",
       "\t  6   &   55\\\\\n",
       "\t  7   &   39\\\\\n",
       "\t  8   &   27\\\\\n",
       "\t  9   &   17\\\\\n",
       "\t 10   &    9\\\\\n",
       "\t 11   &   11\\\\\n",
       "\t 12   &   11\\\\\n",
       "\t 13   &    6\\\\\n",
       "\t 14   &    4\\\\\n",
       "\t 15   &    3\\\\\n",
       "\t 17   &    1\\\\\n",
       "\t 20   &    1\\\\\n",
       "\t 21   &    1\\\\\n",
       "\t 23   &    1\\\\\n",
       "\t 24   &    1\\\\\n",
       "\t 27   &    1\\\\\n",
       "\\end{tabular}\n"
      ],
      "text/markdown": [
       "\n",
       "categ_count | n | \n",
       "|---|---|---|---|---|---|---|---|---|---|---|---|---|---|---|---|---|---|---|---|---|\n",
       "|  1   | 1689 | \n",
       "|  2   |  690 | \n",
       "|  3   |  285 | \n",
       "|  4   |  149 | \n",
       "|  5   |   94 | \n",
       "|  6   |   55 | \n",
       "|  7   |   39 | \n",
       "|  8   |   27 | \n",
       "|  9   |   17 | \n",
       "| 10   |    9 | \n",
       "| 11   |   11 | \n",
       "| 12   |   11 | \n",
       "| 13   |    6 | \n",
       "| 14   |    4 | \n",
       "| 15   |    3 | \n",
       "| 17   |    1 | \n",
       "| 20   |    1 | \n",
       "| 21   |    1 | \n",
       "| 23   |    1 | \n",
       "| 24   |    1 | \n",
       "| 27   |    1 | \n",
       "\n",
       "\n"
      ],
      "text/plain": [
       "   categ_count n   \n",
       "1   1          1689\n",
       "2   2           690\n",
       "3   3           285\n",
       "4   4           149\n",
       "5   5            94\n",
       "6   6            55\n",
       "7   7            39\n",
       "8   8            27\n",
       "9   9            17\n",
       "10 10             9\n",
       "11 11            11\n",
       "12 12            11\n",
       "13 13             6\n",
       "14 14             4\n",
       "15 15             3\n",
       "16 17             1\n",
       "17 20             1\n",
       "18 21             1\n",
       "19 23             1\n",
       "20 24             1\n",
       "21 27             1"
      ]
     },
     "metadata": {},
     "output_type": "display_data"
    }
   ],
   "source": [
    "### count products categories\n",
    "seller_prodcat %>% group_by(seller_id) %>% summarise(categ_count=n()) %>% group_by(categ_count) %>% tally()"
   ]
  },
  {
   "cell_type": "markdown",
   "metadata": {},
   "source": [
    "Most of the sellers offer only one category, but there are many that offer more than one. We can use the number of categories as one of our variables. We can also add the number of products offered. Additionally, we can add many categories as individual variables. Those variables will be binary variables with 0/1 as their values."
   ]
  },
  {
   "cell_type": "code",
   "execution_count": 25,
   "metadata": {},
   "outputs": [
    {
     "name": "stderr",
     "output_type": "stream",
     "text": [
      "Joining, by = c(\"seller_id\", \"categories_count\", \"products_count\")\n"
     ]
    },
    {
     "data": {
      "text/html": [
       "<table>\n",
       "<thead><tr><th scope=col>seller_id</th><th scope=col>outcome</th><th scope=col>seller_zip_code_prefix</th><th scope=col>seller_city</th><th scope=col>seller_state</th><th scope=col>categories_count</th><th scope=col>products_count</th><th scope=col>cat_1</th><th scope=col>cat_2</th><th scope=col>cat_3</th><th scope=col>⋯</th><th scope=col>cat_65</th><th scope=col>cat_66</th><th scope=col>cat_67</th><th scope=col>cat_68</th><th scope=col>cat_69</th><th scope=col>cat_70</th><th scope=col>cat_71</th><th scope=col>cat_72</th><th scope=col>cat_73</th><th scope=col>cat_74</th></tr></thead>\n",
       "<tbody>\n",
       "\t<tr><td>0015a82c2db000af6aaaf3ae2ecb0532</td><td>0                               </td><td> 9080                           </td><td>santo andre                     </td><td>SP                              </td><td>1                               </td><td>1                               </td><td>0                               </td><td>0                               </td><td>0                               </td><td>⋯                               </td><td>0                               </td><td>0                               </td><td>0                               </td><td>0                               </td><td>0                               </td><td>0                               </td><td>0                               </td><td>0                               </td><td>0                               </td><td>0                               </td></tr>\n",
       "\t<tr><td>003554e2dce176b5555353e4f3555ac8</td><td>0                               </td><td>74565                           </td><td>goiania                         </td><td>GO                              </td><td>1                               </td><td>1                               </td><td>1                               </td><td>0                               </td><td>0                               </td><td>⋯                               </td><td>0                               </td><td>0                               </td><td>0                               </td><td>0                               </td><td>0                               </td><td>0                               </td><td>0                               </td><td>0                               </td><td>0                               </td><td>0                               </td></tr>\n",
       "\t<tr><td>00ab3eff1b5192e5f1a63bcecfee11c8</td><td>0                               </td><td> 4164                           </td><td>sao paulo                       </td><td>SP                              </td><td>1                               </td><td>1                               </td><td>0                               </td><td>0                               </td><td>0                               </td><td>⋯                               </td><td>0                               </td><td>0                               </td><td>0                               </td><td>0                               </td><td>0                               </td><td>0                               </td><td>0                               </td><td>0                               </td><td>0                               </td><td>0                               </td></tr>\n",
       "\t<tr><td>010543a62bd80aa422851e79a3bc7540</td><td>0                               </td><td> 1212                           </td><td>sao paulo                       </td><td>SP                              </td><td>1                               </td><td>1                               </td><td>0                               </td><td>0                               </td><td>0                               </td><td>⋯                               </td><td>0                               </td><td>0                               </td><td>0                               </td><td>0                               </td><td>0                               </td><td>0                               </td><td>0                               </td><td>0                               </td><td>0                               </td><td>0                               </td></tr>\n",
       "\t<tr><td>011b0eaba87386a2ae96a7d32bb531d1</td><td>0                               </td><td>17580                           </td><td>pompeia                         </td><td>SP                              </td><td>1                               </td><td>1                               </td><td>0                               </td><td>0                               </td><td>0                               </td><td>⋯                               </td><td>0                               </td><td>0                               </td><td>0                               </td><td>0                               </td><td>0                               </td><td>0                               </td><td>0                               </td><td>0                               </td><td>0                               </td><td>0                               </td></tr>\n",
       "\t<tr><td>01bcc9d254a0143f0ce9791b960b2a47</td><td>1                               </td><td>76400                           </td><td>uruacu                          </td><td>GO                              </td><td>1                               </td><td>3                               </td><td>0                               </td><td>0                               </td><td>0                               </td><td>⋯                               </td><td>0                               </td><td>0                               </td><td>0                               </td><td>0                               </td><td>0                               </td><td>0                               </td><td>0                               </td><td>0                               </td><td>0                               </td><td>0                               </td></tr>\n",
       "</tbody>\n",
       "</table>\n"
      ],
      "text/latex": [
       "\\begin{tabular}{r|lllllllllllllllllllllllllllllllllllllllllllllllllllllllllllllllllllllllllllllllll}\n",
       " seller\\_id & outcome & seller\\_zip\\_code\\_prefix & seller\\_city & seller\\_state & categories\\_count & products\\_count & cat\\_1 & cat\\_2 & cat\\_3 & ⋯ & cat\\_65 & cat\\_66 & cat\\_67 & cat\\_68 & cat\\_69 & cat\\_70 & cat\\_71 & cat\\_72 & cat\\_73 & cat\\_74\\\\\n",
       "\\hline\n",
       "\t 0015a82c2db000af6aaaf3ae2ecb0532 & 0                                &  9080                            & santo andre                      & SP                               & 1                                & 1                                & 0                                & 0                                & 0                                & ⋯                                & 0                                & 0                                & 0                                & 0                                & 0                                & 0                                & 0                                & 0                                & 0                                & 0                               \\\\\n",
       "\t 003554e2dce176b5555353e4f3555ac8 & 0                                & 74565                            & goiania                          & GO                               & 1                                & 1                                & 1                                & 0                                & 0                                & ⋯                                & 0                                & 0                                & 0                                & 0                                & 0                                & 0                                & 0                                & 0                                & 0                                & 0                               \\\\\n",
       "\t 00ab3eff1b5192e5f1a63bcecfee11c8 & 0                                &  4164                            & sao paulo                        & SP                               & 1                                & 1                                & 0                                & 0                                & 0                                & ⋯                                & 0                                & 0                                & 0                                & 0                                & 0                                & 0                                & 0                                & 0                                & 0                                & 0                               \\\\\n",
       "\t 010543a62bd80aa422851e79a3bc7540 & 0                                &  1212                            & sao paulo                        & SP                               & 1                                & 1                                & 0                                & 0                                & 0                                & ⋯                                & 0                                & 0                                & 0                                & 0                                & 0                                & 0                                & 0                                & 0                                & 0                                & 0                               \\\\\n",
       "\t 011b0eaba87386a2ae96a7d32bb531d1 & 0                                & 17580                            & pompeia                          & SP                               & 1                                & 1                                & 0                                & 0                                & 0                                & ⋯                                & 0                                & 0                                & 0                                & 0                                & 0                                & 0                                & 0                                & 0                                & 0                                & 0                               \\\\\n",
       "\t 01bcc9d254a0143f0ce9791b960b2a47 & 1                                & 76400                            & uruacu                           & GO                               & 1                                & 3                                & 0                                & 0                                & 0                                & ⋯                                & 0                                & 0                                & 0                                & 0                                & 0                                & 0                                & 0                                & 0                                & 0                                & 0                               \\\\\n",
       "\\end{tabular}\n"
      ],
      "text/markdown": [
       "\n",
       "seller_id | outcome | seller_zip_code_prefix | seller_city | seller_state | categories_count | products_count | cat_1 | cat_2 | cat_3 | ⋯ | cat_65 | cat_66 | cat_67 | cat_68 | cat_69 | cat_70 | cat_71 | cat_72 | cat_73 | cat_74 | \n",
       "|---|---|---|---|---|---|\n",
       "| 0015a82c2db000af6aaaf3ae2ecb0532 | 0                                |  9080                            | santo andre                      | SP                               | 1                                | 1                                | 0                                | 0                                | 0                                | ⋯                                | 0                                | 0                                | 0                                | 0                                | 0                                | 0                                | 0                                | 0                                | 0                                | 0                                | \n",
       "| 003554e2dce176b5555353e4f3555ac8 | 0                                | 74565                            | goiania                          | GO                               | 1                                | 1                                | 1                                | 0                                | 0                                | ⋯                                | 0                                | 0                                | 0                                | 0                                | 0                                | 0                                | 0                                | 0                                | 0                                | 0                                | \n",
       "| 00ab3eff1b5192e5f1a63bcecfee11c8 | 0                                |  4164                            | sao paulo                        | SP                               | 1                                | 1                                | 0                                | 0                                | 0                                | ⋯                                | 0                                | 0                                | 0                                | 0                                | 0                                | 0                                | 0                                | 0                                | 0                                | 0                                | \n",
       "| 010543a62bd80aa422851e79a3bc7540 | 0                                |  1212                            | sao paulo                        | SP                               | 1                                | 1                                | 0                                | 0                                | 0                                | ⋯                                | 0                                | 0                                | 0                                | 0                                | 0                                | 0                                | 0                                | 0                                | 0                                | 0                                | \n",
       "| 011b0eaba87386a2ae96a7d32bb531d1 | 0                                | 17580                            | pompeia                          | SP                               | 1                                | 1                                | 0                                | 0                                | 0                                | ⋯                                | 0                                | 0                                | 0                                | 0                                | 0                                | 0                                | 0                                | 0                                | 0                                | 0                                | \n",
       "| 01bcc9d254a0143f0ce9791b960b2a47 | 1                                | 76400                            | uruacu                           | GO                               | 1                                | 3                                | 0                                | 0                                | 0                                | ⋯                                | 0                                | 0                                | 0                                | 0                                | 0                                | 0                                | 0                                | 0                                | 0                                | 0                                | \n",
       "\n",
       "\n"
      ],
      "text/plain": [
       "  seller_id                        outcome seller_zip_code_prefix seller_city\n",
       "1 0015a82c2db000af6aaaf3ae2ecb0532 0        9080                  santo andre\n",
       "2 003554e2dce176b5555353e4f3555ac8 0       74565                  goiania    \n",
       "3 00ab3eff1b5192e5f1a63bcecfee11c8 0        4164                  sao paulo  \n",
       "4 010543a62bd80aa422851e79a3bc7540 0        1212                  sao paulo  \n",
       "5 011b0eaba87386a2ae96a7d32bb531d1 0       17580                  pompeia    \n",
       "6 01bcc9d254a0143f0ce9791b960b2a47 1       76400                  uruacu     \n",
       "  seller_state categories_count products_count cat_1 cat_2 cat_3 ⋯ cat_65\n",
       "1 SP           1                1              0     0     0     ⋯ 0     \n",
       "2 GO           1                1              1     0     0     ⋯ 0     \n",
       "3 SP           1                1              0     0     0     ⋯ 0     \n",
       "4 SP           1                1              0     0     0     ⋯ 0     \n",
       "5 SP           1                1              0     0     0     ⋯ 0     \n",
       "6 GO           1                3              0     0     0     ⋯ 0     \n",
       "  cat_66 cat_67 cat_68 cat_69 cat_70 cat_71 cat_72 cat_73 cat_74\n",
       "1 0      0      0      0      0      0      0      0      0     \n",
       "2 0      0      0      0      0      0      0      0      0     \n",
       "3 0      0      0      0      0      0      0      0      0     \n",
       "4 0      0      0      0      0      0      0      0      0     \n",
       "5 0      0      0      0      0      0      0      0      0     \n",
       "6 0      0      0      0      0      0      0      0      0     "
      ]
     },
     "metadata": {},
     "output_type": "display_data"
    },
    {
     "data": {
      "text/html": [
       "903"
      ],
      "text/latex": [
       "903"
      ],
      "text/markdown": [
       "903"
      ],
      "text/plain": [
       "[1] 903"
      ]
     },
     "metadata": {},
     "output_type": "display_data"
    }
   ],
   "source": [
    "## add the number of products and categories to the dataset\n",
    "sellers <- left_join(sellers, \n",
    "    (seller_prodcat %>% group_by(seller_id) %>% \n",
    "     summarise(categories_count=n(), products_count=sum(products_count)))\n",
    ")\n",
    "head(sellers)\n",
    "nrow(sellers)"
   ]
  },
  {
   "cell_type": "code",
   "execution_count": 26,
   "metadata": {},
   "outputs": [
    {
     "data": {
      "text/html": [
       "<table>\n",
       "<thead><tr><th scope=col>category_id</th><th scope=col>product_category_name</th></tr></thead>\n",
       "<tbody>\n",
       "\t<tr><td> 1                               </td><td>perfumaria                       </td></tr>\n",
       "\t<tr><td> 2                               </td><td>artes                            </td></tr>\n",
       "\t<tr><td> 3                               </td><td>esporte_lazer                    </td></tr>\n",
       "\t<tr><td> 4                               </td><td>bebes                            </td></tr>\n",
       "\t<tr><td> 5                               </td><td>utilidades_domesticas            </td></tr>\n",
       "\t<tr><td> 6                               </td><td>instrumentos_musicais            </td></tr>\n",
       "\t<tr><td> 7                               </td><td>cool_stuff                       </td></tr>\n",
       "\t<tr><td> 8                               </td><td>moveis_decoracao                 </td></tr>\n",
       "\t<tr><td> 9                               </td><td>eletrodomesticos                 </td></tr>\n",
       "\t<tr><td>10                               </td><td>brinquedos                       </td></tr>\n",
       "\t<tr><td>11                               </td><td>cama_mesa_banho                  </td></tr>\n",
       "\t<tr><td>12                               </td><td>construcao_ferramentas_seguranca </td></tr>\n",
       "\t<tr><td>13                               </td><td>informatica_acessorios           </td></tr>\n",
       "\t<tr><td>14                               </td><td>beleza_saude                     </td></tr>\n",
       "\t<tr><td>15                               </td><td>malas_acessorios                 </td></tr>\n",
       "\t<tr><td>16                               </td><td>ferramentas_jardim               </td></tr>\n",
       "\t<tr><td>17                               </td><td>moveis_escritorio                </td></tr>\n",
       "\t<tr><td>18                               </td><td>automotivo                       </td></tr>\n",
       "\t<tr><td>19                               </td><td>eletronicos                      </td></tr>\n",
       "\t<tr><td>20                               </td><td>fashion_calcados                 </td></tr>\n",
       "\t<tr><td>21                               </td><td>telefonia                        </td></tr>\n",
       "\t<tr><td>22                               </td><td>papelaria                        </td></tr>\n",
       "\t<tr><td>23                               </td><td>fashion_bolsas_e_acessorios      </td></tr>\n",
       "\t<tr><td>24                               </td><td>pcs                              </td></tr>\n",
       "\t<tr><td>25                               </td><td>casa_construcao                  </td></tr>\n",
       "\t<tr><td>26                               </td><td>relogios_presentes               </td></tr>\n",
       "\t<tr><td>27                               </td><td>construcao_ferramentas_construcao</td></tr>\n",
       "\t<tr><td>28                               </td><td>pet_shop                         </td></tr>\n",
       "\t<tr><td>29                               </td><td>eletroportateis                  </td></tr>\n",
       "\t<tr><td>30                               </td><td>agro_industria_e_comercio        </td></tr>\n",
       "\t<tr><td>⋮</td><td>⋮</td></tr>\n",
       "\t<tr><td>45                                           </td><td>eletrodomesticos_2                           </td></tr>\n",
       "\t<tr><td>46                                           </td><td>artigos_de_festas                            </td></tr>\n",
       "\t<tr><td>47                                           </td><td>bebidas                                      </td></tr>\n",
       "\t<tr><td>48                                           </td><td>market_place                                 </td></tr>\n",
       "\t<tr><td>49                                           </td><td>la_cuisine                                   </td></tr>\n",
       "\t<tr><td>50                                           </td><td>construcao_ferramentas_jardim                </td></tr>\n",
       "\t<tr><td>51                                           </td><td>fashion_roupa_feminina                       </td></tr>\n",
       "\t<tr><td>52                                           </td><td>casa_conforto                                </td></tr>\n",
       "\t<tr><td>53                                           </td><td>audio                                        </td></tr>\n",
       "\t<tr><td>54                                           </td><td>alimentos_bebidas                            </td></tr>\n",
       "\t<tr><td>55                                           </td><td>musica                                       </td></tr>\n",
       "\t<tr><td>56                                           </td><td>alimentos                                    </td></tr>\n",
       "\t<tr><td>57                                           </td><td>tablets_impressao_imagem                     </td></tr>\n",
       "\t<tr><td>58                                           </td><td>livros_importados                            </td></tr>\n",
       "\t<tr><td>59                                           </td><td>portateis_casa_forno_e_cafe                  </td></tr>\n",
       "\t<tr><td>60                                           </td><td>fashion_esporte                              </td></tr>\n",
       "\t<tr><td>61                                           </td><td>artigos_de_natal                             </td></tr>\n",
       "\t<tr><td>62                                           </td><td>fashion_roupa_infanto_juvenil                </td></tr>\n",
       "\t<tr><td>63                                           </td><td>dvds_blu_ray                                 </td></tr>\n",
       "\t<tr><td>64                                           </td><td>artes_e_artesanato                           </td></tr>\n",
       "\t<tr><td>65                                           </td><td>pc_gamer                                     </td></tr>\n",
       "\t<tr><td>66                                           </td><td>moveis_quarto                                </td></tr>\n",
       "\t<tr><td>67                                           </td><td>cine_foto                                    </td></tr>\n",
       "\t<tr><td>68                                           </td><td>fraldas_higiene                              </td></tr>\n",
       "\t<tr><td>69                                           </td><td>flores                                       </td></tr>\n",
       "\t<tr><td>70                                           </td><td>casa_conforto_2                              </td></tr>\n",
       "\t<tr><td>71                                           </td><td>portateis_cozinha_e_preparadores_de_alimentos</td></tr>\n",
       "\t<tr><td>72                                           </td><td>seguros_e_servicos                           </td></tr>\n",
       "\t<tr><td>73                                           </td><td>moveis_colchao_e_estofado                    </td></tr>\n",
       "\t<tr><td>74                                           </td><td>cds_dvds_musicais                            </td></tr>\n",
       "</tbody>\n",
       "</table>\n"
      ],
      "text/latex": [
       "\\begin{tabular}{r|ll}\n",
       " category\\_id & product\\_category\\_name\\\\\n",
       "\\hline\n",
       "\t  1                                & perfumaria                       \\\\\n",
       "\t  2                                & artes                            \\\\\n",
       "\t  3                                  & esporte\\_lazer                    \\\\\n",
       "\t  4                                & bebes                            \\\\\n",
       "\t  5                                  & utilidades\\_domesticas            \\\\\n",
       "\t  6                                  & instrumentos\\_musicais            \\\\\n",
       "\t  7                                  & cool\\_stuff                       \\\\\n",
       "\t  8                                  & moveis\\_decoracao                 \\\\\n",
       "\t  9                                & eletrodomesticos                 \\\\\n",
       "\t 10                                & brinquedos                       \\\\\n",
       "\t 11                                    & cama\\_mesa\\_banho                  \\\\\n",
       "\t 12                                    & construcao\\_ferramentas\\_seguranca \\\\\n",
       "\t 13                                  & informatica\\_acessorios           \\\\\n",
       "\t 14                                  & beleza\\_saude                     \\\\\n",
       "\t 15                                  & malas\\_acessorios                 \\\\\n",
       "\t 16                                  & ferramentas\\_jardim               \\\\\n",
       "\t 17                                  & moveis\\_escritorio                \\\\\n",
       "\t 18                                & automotivo                       \\\\\n",
       "\t 19                                & eletronicos                      \\\\\n",
       "\t 20                                  & fashion\\_calcados                 \\\\\n",
       "\t 21                                & telefonia                        \\\\\n",
       "\t 22                                & papelaria                        \\\\\n",
       "\t 23                                      & fashion\\_bolsas\\_e\\_acessorios      \\\\\n",
       "\t 24                                & pcs                              \\\\\n",
       "\t 25                                  & casa\\_construcao                  \\\\\n",
       "\t 26                                  & relogios\\_presentes               \\\\\n",
       "\t 27                                    & construcao\\_ferramentas\\_construcao\\\\\n",
       "\t 28                                  & pet\\_shop                         \\\\\n",
       "\t 29                                & eletroportateis                  \\\\\n",
       "\t 30                                      & agro\\_industria\\_e\\_comercio        \\\\\n",
       "\t ⋮ & ⋮\\\\\n",
       "\t 45                                              & eletrodomesticos\\_2                           \\\\\n",
       "\t 46                                                & artigos\\_de\\_festas                            \\\\\n",
       "\t 47                                            & bebidas                                      \\\\\n",
       "\t 48                                              & market\\_place                                 \\\\\n",
       "\t 49                                              & la\\_cuisine                                   \\\\\n",
       "\t 50                                                & construcao\\_ferramentas\\_jardim                \\\\\n",
       "\t 51                                                & fashion\\_roupa\\_feminina                       \\\\\n",
       "\t 52                                              & casa\\_conforto                                \\\\\n",
       "\t 53                                            & audio                                        \\\\\n",
       "\t 54                                              & alimentos\\_bebidas                            \\\\\n",
       "\t 55                                            & musica                                       \\\\\n",
       "\t 56                                            & alimentos                                    \\\\\n",
       "\t 57                                                & tablets\\_impressao\\_imagem                     \\\\\n",
       "\t 58                                              & livros\\_importados                            \\\\\n",
       "\t 59                                                    & portateis\\_casa\\_forno\\_e\\_cafe                  \\\\\n",
       "\t 60                                              & fashion\\_esporte                              \\\\\n",
       "\t 61                                                & artigos\\_de\\_natal                             \\\\\n",
       "\t 62                                                  & fashion\\_roupa\\_infanto\\_juvenil                \\\\\n",
       "\t 63                                                & dvds\\_blu\\_ray                                 \\\\\n",
       "\t 64                                                & artes\\_e\\_artesanato                           \\\\\n",
       "\t 65                                              & pc\\_gamer                                     \\\\\n",
       "\t 66                                              & moveis\\_quarto                                \\\\\n",
       "\t 67                                              & cine\\_foto                                    \\\\\n",
       "\t 68                                              & fraldas\\_higiene                              \\\\\n",
       "\t 69                                            & flores                                       \\\\\n",
       "\t 70                                                & casa\\_conforto\\_2                              \\\\\n",
       "\t 71                                                      & portateis\\_cozinha\\_e\\_preparadores\\_de\\_alimentos\\\\\n",
       "\t 72                                                & seguros\\_e\\_servicos                           \\\\\n",
       "\t 73                                                  & moveis\\_colchao\\_e\\_estofado                    \\\\\n",
       "\t 74                                                & cds\\_dvds\\_musicais                            \\\\\n",
       "\\end{tabular}\n"
      ],
      "text/markdown": [
       "\n",
       "category_id | product_category_name | \n",
       "|---|---|---|---|---|---|---|---|---|---|---|---|---|---|---|---|---|---|---|---|---|---|---|---|---|---|---|---|---|---|---|---|---|---|---|---|---|---|---|---|---|---|---|---|---|---|---|---|---|---|---|---|---|---|---|---|---|---|---|---|---|\n",
       "|  1                                | perfumaria                        | \n",
       "|  2                                | artes                             | \n",
       "|  3                                | esporte_lazer                     | \n",
       "|  4                                | bebes                             | \n",
       "|  5                                | utilidades_domesticas             | \n",
       "|  6                                | instrumentos_musicais             | \n",
       "|  7                                | cool_stuff                        | \n",
       "|  8                                | moveis_decoracao                  | \n",
       "|  9                                | eletrodomesticos                  | \n",
       "| 10                                | brinquedos                        | \n",
       "| 11                                | cama_mesa_banho                   | \n",
       "| 12                                | construcao_ferramentas_seguranca  | \n",
       "| 13                                | informatica_acessorios            | \n",
       "| 14                                | beleza_saude                      | \n",
       "| 15                                | malas_acessorios                  | \n",
       "| 16                                | ferramentas_jardim                | \n",
       "| 17                                | moveis_escritorio                 | \n",
       "| 18                                | automotivo                        | \n",
       "| 19                                | eletronicos                       | \n",
       "| 20                                | fashion_calcados                  | \n",
       "| 21                                | telefonia                         | \n",
       "| 22                                | papelaria                         | \n",
       "| 23                                | fashion_bolsas_e_acessorios       | \n",
       "| 24                                | pcs                               | \n",
       "| 25                                | casa_construcao                   | \n",
       "| 26                                | relogios_presentes                | \n",
       "| 27                                | construcao_ferramentas_construcao | \n",
       "| 28                                | pet_shop                          | \n",
       "| 29                                | eletroportateis                   | \n",
       "| 30                                | agro_industria_e_comercio         | \n",
       "| ⋮ | ⋮ | \n",
       "| 45                                            | eletrodomesticos_2                            | \n",
       "| 46                                            | artigos_de_festas                             | \n",
       "| 47                                            | bebidas                                       | \n",
       "| 48                                            | market_place                                  | \n",
       "| 49                                            | la_cuisine                                    | \n",
       "| 50                                            | construcao_ferramentas_jardim                 | \n",
       "| 51                                            | fashion_roupa_feminina                        | \n",
       "| 52                                            | casa_conforto                                 | \n",
       "| 53                                            | audio                                         | \n",
       "| 54                                            | alimentos_bebidas                             | \n",
       "| 55                                            | musica                                        | \n",
       "| 56                                            | alimentos                                     | \n",
       "| 57                                            | tablets_impressao_imagem                      | \n",
       "| 58                                            | livros_importados                             | \n",
       "| 59                                            | portateis_casa_forno_e_cafe                   | \n",
       "| 60                                            | fashion_esporte                               | \n",
       "| 61                                            | artigos_de_natal                              | \n",
       "| 62                                            | fashion_roupa_infanto_juvenil                 | \n",
       "| 63                                            | dvds_blu_ray                                  | \n",
       "| 64                                            | artes_e_artesanato                            | \n",
       "| 65                                            | pc_gamer                                      | \n",
       "| 66                                            | moveis_quarto                                 | \n",
       "| 67                                            | cine_foto                                     | \n",
       "| 68                                            | fraldas_higiene                               | \n",
       "| 69                                            | flores                                        | \n",
       "| 70                                            | casa_conforto_2                               | \n",
       "| 71                                            | portateis_cozinha_e_preparadores_de_alimentos | \n",
       "| 72                                            | seguros_e_servicos                            | \n",
       "| 73                                            | moveis_colchao_e_estofado                     | \n",
       "| 74                                            | cds_dvds_musicais                             | \n",
       "\n",
       "\n"
      ],
      "text/plain": [
       "   category_id product_category_name                        \n",
       "1   1          perfumaria                                   \n",
       "2   2          artes                                        \n",
       "3   3          esporte_lazer                                \n",
       "4   4          bebes                                        \n",
       "5   5          utilidades_domesticas                        \n",
       "6   6          instrumentos_musicais                        \n",
       "7   7          cool_stuff                                   \n",
       "8   8          moveis_decoracao                             \n",
       "9   9          eletrodomesticos                             \n",
       "10 10          brinquedos                                   \n",
       "11 11          cama_mesa_banho                              \n",
       "12 12          construcao_ferramentas_seguranca             \n",
       "13 13          informatica_acessorios                       \n",
       "14 14          beleza_saude                                 \n",
       "15 15          malas_acessorios                             \n",
       "16 16          ferramentas_jardim                           \n",
       "17 17          moveis_escritorio                            \n",
       "18 18          automotivo                                   \n",
       "19 19          eletronicos                                  \n",
       "20 20          fashion_calcados                             \n",
       "21 21          telefonia                                    \n",
       "22 22          papelaria                                    \n",
       "23 23          fashion_bolsas_e_acessorios                  \n",
       "24 24          pcs                                          \n",
       "25 25          casa_construcao                              \n",
       "26 26          relogios_presentes                           \n",
       "27 27          construcao_ferramentas_construcao            \n",
       "28 28          pet_shop                                     \n",
       "29 29          eletroportateis                              \n",
       "30 30          agro_industria_e_comercio                    \n",
       "⋮  ⋮           ⋮                                            \n",
       "45 45          eletrodomesticos_2                           \n",
       "46 46          artigos_de_festas                            \n",
       "47 47          bebidas                                      \n",
       "48 48          market_place                                 \n",
       "49 49          la_cuisine                                   \n",
       "50 50          construcao_ferramentas_jardim                \n",
       "51 51          fashion_roupa_feminina                       \n",
       "52 52          casa_conforto                                \n",
       "53 53          audio                                        \n",
       "54 54          alimentos_bebidas                            \n",
       "55 55          musica                                       \n",
       "56 56          alimentos                                    \n",
       "57 57          tablets_impressao_imagem                     \n",
       "58 58          livros_importados                            \n",
       "59 59          portateis_casa_forno_e_cafe                  \n",
       "60 60          fashion_esporte                              \n",
       "61 61          artigos_de_natal                             \n",
       "62 62          fashion_roupa_infanto_juvenil                \n",
       "63 63          dvds_blu_ray                                 \n",
       "64 64          artes_e_artesanato                           \n",
       "65 65          pc_gamer                                     \n",
       "66 66          moveis_quarto                                \n",
       "67 67          cine_foto                                    \n",
       "68 68          fraldas_higiene                              \n",
       "69 69          flores                                       \n",
       "70 70          casa_conforto_2                              \n",
       "71 71          portateis_cozinha_e_preparadores_de_alimentos\n",
       "72 72          seguros_e_servicos                           \n",
       "73 73          moveis_colchao_e_estofado                    \n",
       "74 74          cds_dvds_musicais                            "
      ]
     },
     "metadata": {},
     "output_type": "display_data"
    }
   ],
   "source": [
    "## add each category as a variable\n",
    "cats <- readSQL(\"SELECT DISTINCT product_category_name FROM products\")\n",
    "#cats <- as.character(cats)\n",
    "nn <- 1:nrow(cats)\n",
    "cats <- data.frame(category_id=nn,category_desc=cats)\n",
    "cats"
   ]
  },
  {
   "cell_type": "code",
   "execution_count": 27,
   "metadata": {},
   "outputs": [],
   "source": [
    "## one-hot-encoding...\n",
    "one_hot_encoding <- function(data,id,category,prefix) {\n",
    "    require(dplyr)\n",
    "    cat <- levels(factor(data[[category]]))\n",
    "    res <- data %>% group_by_(id) %>% select_(id) %>% distinct_()\n",
    "    for (l in 1:length(cat)) {\n",
    "        #cname <- paste(prefix,l,sep=\"_\")\n",
    "        #data[[cname]] <- ifelse(data[[category]]==cat[l],1,0)\n",
    "        #cc1 <- data %>% group_by_(id) %>% summarise_(cname=max(cname)) %>% select_(id,cname)\n",
    "        #res <- cbind(res, cc1[,2])\n",
    "        cname <- paste(\"cat\",l,sep=\"_\")\n",
    "        ncat <- \"newcat\"\n",
    "        data[[ncat]] <- ifelse(data[[category]]==cat[l],1,0)\n",
    "        cc1 <- data %>% select_(id,ncat) %>% group_by_(id) %>% \n",
    "               summarise(newcat=max(newcat))\n",
    "        res[[cname]] <- cc1$newcat\n",
    "    }\n",
    "    return(res)\n",
    "}\n"
   ]
  },
  {
   "cell_type": "code",
   "execution_count": 28,
   "metadata": {},
   "outputs": [
    {
     "data": {
      "text/html": [
       "<table>\n",
       "<thead><tr><th scope=col>seller_id</th><th scope=col>cat_1</th><th scope=col>cat_2</th><th scope=col>cat_3</th><th scope=col>cat_4</th><th scope=col>cat_5</th><th scope=col>cat_6</th><th scope=col>cat_7</th><th scope=col>cat_8</th><th scope=col>cat_9</th><th scope=col>⋯</th><th scope=col>cat_65</th><th scope=col>cat_66</th><th scope=col>cat_67</th><th scope=col>cat_68</th><th scope=col>cat_69</th><th scope=col>cat_70</th><th scope=col>cat_71</th><th scope=col>cat_72</th><th scope=col>cat_73</th><th scope=col>cat_74</th></tr></thead>\n",
       "<tbody>\n",
       "\t<tr><td>0015a82c2db000af6aaaf3ae2ecb0532</td><td>0                               </td><td>0                               </td><td>0                               </td><td>0                               </td><td>0                               </td><td>0                               </td><td>0                               </td><td>0                               </td><td>0                               </td><td>⋯                               </td><td>0                               </td><td>0                               </td><td>0                               </td><td>0                               </td><td>0                               </td><td>0                               </td><td>0                               </td><td>0                               </td><td>0                               </td><td>0                               </td></tr>\n",
       "\t<tr><td>001cca7ae9ae17fb1caed9dfb1094831</td><td>0                               </td><td>0                               </td><td>0                               </td><td>0                               </td><td>0                               </td><td>0                               </td><td>0                               </td><td>0                               </td><td>0                               </td><td>⋯                               </td><td>0                               </td><td>0                               </td><td>0                               </td><td>0                               </td><td>0                               </td><td>0                               </td><td>0                               </td><td>0                               </td><td>0                               </td><td>0                               </td></tr>\n",
       "\t<tr><td>001e6ad469a905060d959994f1b41e4f</td><td>0                               </td><td>0                               </td><td>0                               </td><td>0                               </td><td>0                               </td><td>0                               </td><td>0                               </td><td>0                               </td><td>0                               </td><td>⋯                               </td><td>0                               </td><td>0                               </td><td>0                               </td><td>0                               </td><td>0                               </td><td>0                               </td><td>0                               </td><td>0                               </td><td>0                               </td><td>0                               </td></tr>\n",
       "\t<tr><td>002100f778ceb8431b7a1020ff7ab48f</td><td>0                               </td><td>0                               </td><td>0                               </td><td>0                               </td><td>0                               </td><td>0                               </td><td>0                               </td><td>0                               </td><td>0                               </td><td>⋯                               </td><td>0                               </td><td>0                               </td><td>0                               </td><td>0                               </td><td>0                               </td><td>0                               </td><td>0                               </td><td>0                               </td><td>0                               </td><td>0                               </td></tr>\n",
       "\t<tr><td>003554e2dce176b5555353e4f3555ac8</td><td>1                               </td><td>0                               </td><td>0                               </td><td>0                               </td><td>0                               </td><td>0                               </td><td>0                               </td><td>0                               </td><td>0                               </td><td>⋯                               </td><td>0                               </td><td>0                               </td><td>0                               </td><td>0                               </td><td>0                               </td><td>0                               </td><td>0                               </td><td>0                               </td><td>0                               </td><td>0                               </td></tr>\n",
       "\t<tr><td>004c9cd9d87a3c30c522c48c4fc07416</td><td>1                               </td><td>0                               </td><td>0                               </td><td>0                               </td><td>0                               </td><td>0                               </td><td>0                               </td><td>0                               </td><td>0                               </td><td>⋯                               </td><td>0                               </td><td>0                               </td><td>0                               </td><td>0                               </td><td>0                               </td><td>0                               </td><td>0                               </td><td>0                               </td><td>0                               </td><td>0                               </td></tr>\n",
       "</tbody>\n",
       "</table>\n"
      ],
      "text/latex": [
       "\\begin{tabular}{r|lllllllllllllllllllllllllllllllllllllllllllllllllllllllllllllllllllllllllll}\n",
       " seller\\_id & cat\\_1 & cat\\_2 & cat\\_3 & cat\\_4 & cat\\_5 & cat\\_6 & cat\\_7 & cat\\_8 & cat\\_9 & ⋯ & cat\\_65 & cat\\_66 & cat\\_67 & cat\\_68 & cat\\_69 & cat\\_70 & cat\\_71 & cat\\_72 & cat\\_73 & cat\\_74\\\\\n",
       "\\hline\n",
       "\t 0015a82c2db000af6aaaf3ae2ecb0532 & 0                                & 0                                & 0                                & 0                                & 0                                & 0                                & 0                                & 0                                & 0                                & ⋯                                & 0                                & 0                                & 0                                & 0                                & 0                                & 0                                & 0                                & 0                                & 0                                & 0                               \\\\\n",
       "\t 001cca7ae9ae17fb1caed9dfb1094831 & 0                                & 0                                & 0                                & 0                                & 0                                & 0                                & 0                                & 0                                & 0                                & ⋯                                & 0                                & 0                                & 0                                & 0                                & 0                                & 0                                & 0                                & 0                                & 0                                & 0                               \\\\\n",
       "\t 001e6ad469a905060d959994f1b41e4f & 0                                & 0                                & 0                                & 0                                & 0                                & 0                                & 0                                & 0                                & 0                                & ⋯                                & 0                                & 0                                & 0                                & 0                                & 0                                & 0                                & 0                                & 0                                & 0                                & 0                               \\\\\n",
       "\t 002100f778ceb8431b7a1020ff7ab48f & 0                                & 0                                & 0                                & 0                                & 0                                & 0                                & 0                                & 0                                & 0                                & ⋯                                & 0                                & 0                                & 0                                & 0                                & 0                                & 0                                & 0                                & 0                                & 0                                & 0                               \\\\\n",
       "\t 003554e2dce176b5555353e4f3555ac8 & 1                                & 0                                & 0                                & 0                                & 0                                & 0                                & 0                                & 0                                & 0                                & ⋯                                & 0                                & 0                                & 0                                & 0                                & 0                                & 0                                & 0                                & 0                                & 0                                & 0                               \\\\\n",
       "\t 004c9cd9d87a3c30c522c48c4fc07416 & 1                                & 0                                & 0                                & 0                                & 0                                & 0                                & 0                                & 0                                & 0                                & ⋯                                & 0                                & 0                                & 0                                & 0                                & 0                                & 0                                & 0                                & 0                                & 0                                & 0                               \\\\\n",
       "\\end{tabular}\n"
      ],
      "text/markdown": [
       "\n",
       "seller_id | cat_1 | cat_2 | cat_3 | cat_4 | cat_5 | cat_6 | cat_7 | cat_8 | cat_9 | ⋯ | cat_65 | cat_66 | cat_67 | cat_68 | cat_69 | cat_70 | cat_71 | cat_72 | cat_73 | cat_74 | \n",
       "|---|---|---|---|---|---|\n",
       "| 0015a82c2db000af6aaaf3ae2ecb0532 | 0                                | 0                                | 0                                | 0                                | 0                                | 0                                | 0                                | 0                                | 0                                | ⋯                                | 0                                | 0                                | 0                                | 0                                | 0                                | 0                                | 0                                | 0                                | 0                                | 0                                | \n",
       "| 001cca7ae9ae17fb1caed9dfb1094831 | 0                                | 0                                | 0                                | 0                                | 0                                | 0                                | 0                                | 0                                | 0                                | ⋯                                | 0                                | 0                                | 0                                | 0                                | 0                                | 0                                | 0                                | 0                                | 0                                | 0                                | \n",
       "| 001e6ad469a905060d959994f1b41e4f | 0                                | 0                                | 0                                | 0                                | 0                                | 0                                | 0                                | 0                                | 0                                | ⋯                                | 0                                | 0                                | 0                                | 0                                | 0                                | 0                                | 0                                | 0                                | 0                                | 0                                | \n",
       "| 002100f778ceb8431b7a1020ff7ab48f | 0                                | 0                                | 0                                | 0                                | 0                                | 0                                | 0                                | 0                                | 0                                | ⋯                                | 0                                | 0                                | 0                                | 0                                | 0                                | 0                                | 0                                | 0                                | 0                                | 0                                | \n",
       "| 003554e2dce176b5555353e4f3555ac8 | 1                                | 0                                | 0                                | 0                                | 0                                | 0                                | 0                                | 0                                | 0                                | ⋯                                | 0                                | 0                                | 0                                | 0                                | 0                                | 0                                | 0                                | 0                                | 0                                | 0                                | \n",
       "| 004c9cd9d87a3c30c522c48c4fc07416 | 1                                | 0                                | 0                                | 0                                | 0                                | 0                                | 0                                | 0                                | 0                                | ⋯                                | 0                                | 0                                | 0                                | 0                                | 0                                | 0                                | 0                                | 0                                | 0                                | 0                                | \n",
       "\n",
       "\n"
      ],
      "text/plain": [
       "  seller_id                        cat_1 cat_2 cat_3 cat_4 cat_5 cat_6 cat_7\n",
       "1 0015a82c2db000af6aaaf3ae2ecb0532 0     0     0     0     0     0     0    \n",
       "2 001cca7ae9ae17fb1caed9dfb1094831 0     0     0     0     0     0     0    \n",
       "3 001e6ad469a905060d959994f1b41e4f 0     0     0     0     0     0     0    \n",
       "4 002100f778ceb8431b7a1020ff7ab48f 0     0     0     0     0     0     0    \n",
       "5 003554e2dce176b5555353e4f3555ac8 1     0     0     0     0     0     0    \n",
       "6 004c9cd9d87a3c30c522c48c4fc07416 1     0     0     0     0     0     0    \n",
       "  cat_8 cat_9 ⋯ cat_65 cat_66 cat_67 cat_68 cat_69 cat_70 cat_71 cat_72 cat_73\n",
       "1 0     0     ⋯ 0      0      0      0      0      0      0      0      0     \n",
       "2 0     0     ⋯ 0      0      0      0      0      0      0      0      0     \n",
       "3 0     0     ⋯ 0      0      0      0      0      0      0      0      0     \n",
       "4 0     0     ⋯ 0      0      0      0      0      0      0      0      0     \n",
       "5 0     0     ⋯ 0      0      0      0      0      0      0      0      0     \n",
       "6 0     0     ⋯ 0      0      0      0      0      0      0      0      0     \n",
       "  cat_74\n",
       "1 0     \n",
       "2 0     \n",
       "3 0     \n",
       "4 0     \n",
       "5 0     \n",
       "6 0     "
      ]
     },
     "metadata": {},
     "output_type": "display_data"
    },
    {
     "data": {
      "text/html": [
       "<ol class=list-inline>\n",
       "\t<li>3095</li>\n",
       "\t<li>75</li>\n",
       "</ol>\n"
      ],
      "text/latex": [
       "\\begin{enumerate*}\n",
       "\\item 3095\n",
       "\\item 75\n",
       "\\end{enumerate*}\n"
      ],
      "text/markdown": [
       "1. 3095\n",
       "2. 75\n",
       "\n",
       "\n"
      ],
      "text/plain": [
       "[1] 3095   75"
      ]
     },
     "metadata": {},
     "output_type": "display_data"
    }
   ],
   "source": [
    "head(one_hot_encoding(data=seller_prodcat,id=\"seller_id\",category=\"product_category_name\",prefix=\"categ\"))\n",
    "\n",
    "dim(one_hot_encoding(seller_prodcat,\"seller_id\",\"product_category_name\", \"categ\"))"
   ]
  },
  {
   "cell_type": "code",
   "execution_count": 21,
   "metadata": {},
   "outputs": [
    {
     "name": "stderr",
     "output_type": "stream",
     "text": [
      "Joining, by = \"seller_id\"\n"
     ]
    }
   ],
   "source": [
    "sellers <- inner_join(sellers,one_hot_encoding(seller_prodcat,\"seller_id\",\"product_category_name\", \"categ\"))"
   ]
  },
  {
   "cell_type": "code",
   "execution_count": 29,
   "metadata": {},
   "outputs": [
    {
     "data": {
      "text/html": [
       "<table>\n",
       "<thead><tr><th scope=col>seller_id</th><th scope=col>outcome</th><th scope=col>seller_zip_code_prefix</th><th scope=col>seller_city</th><th scope=col>seller_state</th><th scope=col>categories_count</th><th scope=col>products_count</th><th scope=col>cat_1</th><th scope=col>cat_2</th><th scope=col>cat_3</th><th scope=col>⋯</th><th scope=col>cat_65</th><th scope=col>cat_66</th><th scope=col>cat_67</th><th scope=col>cat_68</th><th scope=col>cat_69</th><th scope=col>cat_70</th><th scope=col>cat_71</th><th scope=col>cat_72</th><th scope=col>cat_73</th><th scope=col>cat_74</th></tr></thead>\n",
       "<tbody>\n",
       "\t<tr><td>0015a82c2db000af6aaaf3ae2ecb0532</td><td>0                               </td><td> 9080                           </td><td>santo andre                     </td><td>SP                              </td><td>1                               </td><td>1                               </td><td>0                               </td><td>0                               </td><td>0                               </td><td>⋯                               </td><td>0                               </td><td>0                               </td><td>0                               </td><td>0                               </td><td>0                               </td><td>0                               </td><td>0                               </td><td>0                               </td><td>0                               </td><td>0                               </td></tr>\n",
       "\t<tr><td>003554e2dce176b5555353e4f3555ac8</td><td>0                               </td><td>74565                           </td><td>goiania                         </td><td>GO                              </td><td>1                               </td><td>1                               </td><td>1                               </td><td>0                               </td><td>0                               </td><td>⋯                               </td><td>0                               </td><td>0                               </td><td>0                               </td><td>0                               </td><td>0                               </td><td>0                               </td><td>0                               </td><td>0                               </td><td>0                               </td><td>0                               </td></tr>\n",
       "\t<tr><td>00ab3eff1b5192e5f1a63bcecfee11c8</td><td>0                               </td><td> 4164                           </td><td>sao paulo                       </td><td>SP                              </td><td>1                               </td><td>1                               </td><td>0                               </td><td>0                               </td><td>0                               </td><td>⋯                               </td><td>0                               </td><td>0                               </td><td>0                               </td><td>0                               </td><td>0                               </td><td>0                               </td><td>0                               </td><td>0                               </td><td>0                               </td><td>0                               </td></tr>\n",
       "\t<tr><td>010543a62bd80aa422851e79a3bc7540</td><td>0                               </td><td> 1212                           </td><td>sao paulo                       </td><td>SP                              </td><td>1                               </td><td>1                               </td><td>0                               </td><td>0                               </td><td>0                               </td><td>⋯                               </td><td>0                               </td><td>0                               </td><td>0                               </td><td>0                               </td><td>0                               </td><td>0                               </td><td>0                               </td><td>0                               </td><td>0                               </td><td>0                               </td></tr>\n",
       "\t<tr><td>011b0eaba87386a2ae96a7d32bb531d1</td><td>0                               </td><td>17580                           </td><td>pompeia                         </td><td>SP                              </td><td>1                               </td><td>1                               </td><td>0                               </td><td>0                               </td><td>0                               </td><td>⋯                               </td><td>0                               </td><td>0                               </td><td>0                               </td><td>0                               </td><td>0                               </td><td>0                               </td><td>0                               </td><td>0                               </td><td>0                               </td><td>0                               </td></tr>\n",
       "\t<tr><td>01bcc9d254a0143f0ce9791b960b2a47</td><td>1                               </td><td>76400                           </td><td>uruacu                          </td><td>GO                              </td><td>1                               </td><td>3                               </td><td>0                               </td><td>0                               </td><td>0                               </td><td>⋯                               </td><td>0                               </td><td>0                               </td><td>0                               </td><td>0                               </td><td>0                               </td><td>0                               </td><td>0                               </td><td>0                               </td><td>0                               </td><td>0                               </td></tr>\n",
       "</tbody>\n",
       "</table>\n"
      ],
      "text/latex": [
       "\\begin{tabular}{r|lllllllllllllllllllllllllllllllllllllllllllllllllllllllllllllllllllllllllllllllll}\n",
       " seller\\_id & outcome & seller\\_zip\\_code\\_prefix & seller\\_city & seller\\_state & categories\\_count & products\\_count & cat\\_1 & cat\\_2 & cat\\_3 & ⋯ & cat\\_65 & cat\\_66 & cat\\_67 & cat\\_68 & cat\\_69 & cat\\_70 & cat\\_71 & cat\\_72 & cat\\_73 & cat\\_74\\\\\n",
       "\\hline\n",
       "\t 0015a82c2db000af6aaaf3ae2ecb0532 & 0                                &  9080                            & santo andre                      & SP                               & 1                                & 1                                & 0                                & 0                                & 0                                & ⋯                                & 0                                & 0                                & 0                                & 0                                & 0                                & 0                                & 0                                & 0                                & 0                                & 0                               \\\\\n",
       "\t 003554e2dce176b5555353e4f3555ac8 & 0                                & 74565                            & goiania                          & GO                               & 1                                & 1                                & 1                                & 0                                & 0                                & ⋯                                & 0                                & 0                                & 0                                & 0                                & 0                                & 0                                & 0                                & 0                                & 0                                & 0                               \\\\\n",
       "\t 00ab3eff1b5192e5f1a63bcecfee11c8 & 0                                &  4164                            & sao paulo                        & SP                               & 1                                & 1                                & 0                                & 0                                & 0                                & ⋯                                & 0                                & 0                                & 0                                & 0                                & 0                                & 0                                & 0                                & 0                                & 0                                & 0                               \\\\\n",
       "\t 010543a62bd80aa422851e79a3bc7540 & 0                                &  1212                            & sao paulo                        & SP                               & 1                                & 1                                & 0                                & 0                                & 0                                & ⋯                                & 0                                & 0                                & 0                                & 0                                & 0                                & 0                                & 0                                & 0                                & 0                                & 0                               \\\\\n",
       "\t 011b0eaba87386a2ae96a7d32bb531d1 & 0                                & 17580                            & pompeia                          & SP                               & 1                                & 1                                & 0                                & 0                                & 0                                & ⋯                                & 0                                & 0                                & 0                                & 0                                & 0                                & 0                                & 0                                & 0                                & 0                                & 0                               \\\\\n",
       "\t 01bcc9d254a0143f0ce9791b960b2a47 & 1                                & 76400                            & uruacu                           & GO                               & 1                                & 3                                & 0                                & 0                                & 0                                & ⋯                                & 0                                & 0                                & 0                                & 0                                & 0                                & 0                                & 0                                & 0                                & 0                                & 0                               \\\\\n",
       "\\end{tabular}\n"
      ],
      "text/markdown": [
       "\n",
       "seller_id | outcome | seller_zip_code_prefix | seller_city | seller_state | categories_count | products_count | cat_1 | cat_2 | cat_3 | ⋯ | cat_65 | cat_66 | cat_67 | cat_68 | cat_69 | cat_70 | cat_71 | cat_72 | cat_73 | cat_74 | \n",
       "|---|---|---|---|---|---|\n",
       "| 0015a82c2db000af6aaaf3ae2ecb0532 | 0                                |  9080                            | santo andre                      | SP                               | 1                                | 1                                | 0                                | 0                                | 0                                | ⋯                                | 0                                | 0                                | 0                                | 0                                | 0                                | 0                                | 0                                | 0                                | 0                                | 0                                | \n",
       "| 003554e2dce176b5555353e4f3555ac8 | 0                                | 74565                            | goiania                          | GO                               | 1                                | 1                                | 1                                | 0                                | 0                                | ⋯                                | 0                                | 0                                | 0                                | 0                                | 0                                | 0                                | 0                                | 0                                | 0                                | 0                                | \n",
       "| 00ab3eff1b5192e5f1a63bcecfee11c8 | 0                                |  4164                            | sao paulo                        | SP                               | 1                                | 1                                | 0                                | 0                                | 0                                | ⋯                                | 0                                | 0                                | 0                                | 0                                | 0                                | 0                                | 0                                | 0                                | 0                                | 0                                | \n",
       "| 010543a62bd80aa422851e79a3bc7540 | 0                                |  1212                            | sao paulo                        | SP                               | 1                                | 1                                | 0                                | 0                                | 0                                | ⋯                                | 0                                | 0                                | 0                                | 0                                | 0                                | 0                                | 0                                | 0                                | 0                                | 0                                | \n",
       "| 011b0eaba87386a2ae96a7d32bb531d1 | 0                                | 17580                            | pompeia                          | SP                               | 1                                | 1                                | 0                                | 0                                | 0                                | ⋯                                | 0                                | 0                                | 0                                | 0                                | 0                                | 0                                | 0                                | 0                                | 0                                | 0                                | \n",
       "| 01bcc9d254a0143f0ce9791b960b2a47 | 1                                | 76400                            | uruacu                           | GO                               | 1                                | 3                                | 0                                | 0                                | 0                                | ⋯                                | 0                                | 0                                | 0                                | 0                                | 0                                | 0                                | 0                                | 0                                | 0                                | 0                                | \n",
       "\n",
       "\n"
      ],
      "text/plain": [
       "  seller_id                        outcome seller_zip_code_prefix seller_city\n",
       "1 0015a82c2db000af6aaaf3ae2ecb0532 0        9080                  santo andre\n",
       "2 003554e2dce176b5555353e4f3555ac8 0       74565                  goiania    \n",
       "3 00ab3eff1b5192e5f1a63bcecfee11c8 0        4164                  sao paulo  \n",
       "4 010543a62bd80aa422851e79a3bc7540 0        1212                  sao paulo  \n",
       "5 011b0eaba87386a2ae96a7d32bb531d1 0       17580                  pompeia    \n",
       "6 01bcc9d254a0143f0ce9791b960b2a47 1       76400                  uruacu     \n",
       "  seller_state categories_count products_count cat_1 cat_2 cat_3 ⋯ cat_65\n",
       "1 SP           1                1              0     0     0     ⋯ 0     \n",
       "2 GO           1                1              1     0     0     ⋯ 0     \n",
       "3 SP           1                1              0     0     0     ⋯ 0     \n",
       "4 SP           1                1              0     0     0     ⋯ 0     \n",
       "5 SP           1                1              0     0     0     ⋯ 0     \n",
       "6 GO           1                3              0     0     0     ⋯ 0     \n",
       "  cat_66 cat_67 cat_68 cat_69 cat_70 cat_71 cat_72 cat_73 cat_74\n",
       "1 0      0      0      0      0      0      0      0      0     \n",
       "2 0      0      0      0      0      0      0      0      0     \n",
       "3 0      0      0      0      0      0      0      0      0     \n",
       "4 0      0      0      0      0      0      0      0      0     \n",
       "5 0      0      0      0      0      0      0      0      0     \n",
       "6 0      0      0      0      0      0      0      0      0     "
      ]
     },
     "metadata": {},
     "output_type": "display_data"
    },
    {
     "data": {
      "text/html": [
       "903"
      ],
      "text/latex": [
       "903"
      ],
      "text/markdown": [
       "903"
      ],
      "text/plain": [
       "[1] 903"
      ]
     },
     "metadata": {},
     "output_type": "display_data"
    }
   ],
   "source": [
    "head(sellers)\n",
    "nrow(sellers)"
   ]
  },
  {
   "cell_type": "code",
   "execution_count": 41,
   "metadata": {},
   "outputs": [
    {
     "data": {
      "text/html": [
       "<table>\n",
       "<thead><tr><th scope=col>seller_id</th><th scope=col>competitors_count</th></tr></thead>\n",
       "<tbody>\n",
       "\t<tr><td>0015a82c2db000af6aaaf3ae2ecb0532</td><td> 56                             </td></tr>\n",
       "\t<tr><td>001cca7ae9ae17fb1caed9dfb1094831</td><td> 57                             </td></tr>\n",
       "\t<tr><td>001e6ad469a905060d959994f1b41e4f</td><td>471                             </td></tr>\n",
       "\t<tr><td>002100f778ceb8431b7a1020ff7ab48f</td><td>236                             </td></tr>\n",
       "\t<tr><td>003554e2dce176b5555353e4f3555ac8</td><td>204                             </td></tr>\n",
       "\t<tr><td>004c9cd9d87a3c30c522c48c4fc07416</td><td> 59                             </td></tr>\n",
       "</tbody>\n",
       "</table>\n"
      ],
      "text/latex": [
       "\\begin{tabular}{r|ll}\n",
       " seller\\_id & competitors\\_count\\\\\n",
       "\\hline\n",
       "\t 0015a82c2db000af6aaaf3ae2ecb0532 &  56                             \\\\\n",
       "\t 001cca7ae9ae17fb1caed9dfb1094831 &  57                             \\\\\n",
       "\t 001e6ad469a905060d959994f1b41e4f & 471                             \\\\\n",
       "\t 002100f778ceb8431b7a1020ff7ab48f & 236                             \\\\\n",
       "\t 003554e2dce176b5555353e4f3555ac8 & 204                             \\\\\n",
       "\t 004c9cd9d87a3c30c522c48c4fc07416 &  59                             \\\\\n",
       "\\end{tabular}\n"
      ],
      "text/markdown": [
       "\n",
       "seller_id | competitors_count | \n",
       "|---|---|---|---|---|---|\n",
       "| 0015a82c2db000af6aaaf3ae2ecb0532 |  56                              | \n",
       "| 001cca7ae9ae17fb1caed9dfb1094831 |  57                              | \n",
       "| 001e6ad469a905060d959994f1b41e4f | 471                              | \n",
       "| 002100f778ceb8431b7a1020ff7ab48f | 236                              | \n",
       "| 003554e2dce176b5555353e4f3555ac8 | 204                              | \n",
       "| 004c9cd9d87a3c30c522c48c4fc07416 |  59                              | \n",
       "\n",
       "\n"
      ],
      "text/plain": [
       "  seller_id                        competitors_count\n",
       "1 0015a82c2db000af6aaaf3ae2ecb0532  56              \n",
       "2 001cca7ae9ae17fb1caed9dfb1094831  57              \n",
       "3 001e6ad469a905060d959994f1b41e4f 471              \n",
       "4 002100f778ceb8431b7a1020ff7ab48f 236              \n",
       "5 003554e2dce176b5555353e4f3555ac8 204              \n",
       "6 004c9cd9d87a3c30c522c48c4fc07416  59              "
      ]
     },
     "metadata": {},
     "output_type": "display_data"
    },
    {
     "data": {
      "text/html": [
       "3092"
      ],
      "text/latex": [
       "3092"
      ],
      "text/markdown": [
       "3092"
      ],
      "text/plain": [
       "[1] 3092"
      ]
     },
     "metadata": {},
     "output_type": "display_data"
    }
   ],
   "source": [
    "### Number of competitors @ entry date\n",
    "\n",
    "query <- \"\n",
    "SELECT s1.seller_id, COUNT(DISTINCT s2.seller_id) competitors_count\n",
    "FROM seller_prodcat_v s1\n",
    "INNER JOIN seller_times t1\n",
    "    ON s1.seller_id = t1.seller_id\n",
    "LEFT OUTER JOIN seller_prodcat_v s2\n",
    "    ON s1.product_category_name = s2.product_category_name\n",
    "    AND s1.seller_id <> s2.seller_id\n",
    "INNER JOIN seller_times t2\n",
    "    ON s2.seller_id = t2.seller_id\n",
    "WHERE t2.first_date <= t1.first_date\n",
    "GROUP BY s1.seller_id\n",
    "\"\n",
    "head(readSQL(query))\n",
    "nrow(readSQL(query))"
   ]
  },
  {
   "cell_type": "code",
   "execution_count": 43,
   "metadata": {},
   "outputs": [
    {
     "name": "stderr",
     "output_type": "stream",
     "text": [
      "Joining, by = \"seller_id\"\n"
     ]
    },
    {
     "data": {
      "text/html": [
       "<table>\n",
       "<thead><tr><th scope=col>seller_id</th><th scope=col>outcome</th><th scope=col>seller_zip_code_prefix</th><th scope=col>seller_city</th><th scope=col>seller_state</th><th scope=col>categories_count</th><th scope=col>products_count</th><th scope=col>cat_1</th><th scope=col>cat_2</th><th scope=col>cat_3</th><th scope=col>⋯</th><th scope=col>cat_66</th><th scope=col>cat_67</th><th scope=col>cat_68</th><th scope=col>cat_69</th><th scope=col>cat_70</th><th scope=col>cat_71</th><th scope=col>cat_72</th><th scope=col>cat_73</th><th scope=col>cat_74</th><th scope=col>competitors_count</th></tr></thead>\n",
       "<tbody>\n",
       "\t<tr><td>0015a82c2db000af6aaaf3ae2ecb0532</td><td>0                               </td><td> 9080                           </td><td>santo andre                     </td><td>SP                              </td><td>1                               </td><td>1                               </td><td>0                               </td><td>0                               </td><td>0                               </td><td>⋯                               </td><td>0                               </td><td>0                               </td><td>0                               </td><td>0                               </td><td>0                               </td><td>0                               </td><td>0                               </td><td>0                               </td><td>0                               </td><td> 56                             </td></tr>\n",
       "\t<tr><td>003554e2dce176b5555353e4f3555ac8</td><td>0                               </td><td>74565                           </td><td>goiania                         </td><td>GO                              </td><td>1                               </td><td>1                               </td><td>1                               </td><td>0                               </td><td>0                               </td><td>⋯                               </td><td>0                               </td><td>0                               </td><td>0                               </td><td>0                               </td><td>0                               </td><td>0                               </td><td>0                               </td><td>0                               </td><td>0                               </td><td>204                             </td></tr>\n",
       "\t<tr><td>00ab3eff1b5192e5f1a63bcecfee11c8</td><td>0                               </td><td> 4164                           </td><td>sao paulo                       </td><td>SP                              </td><td>1                               </td><td>1                               </td><td>0                               </td><td>0                               </td><td>0                               </td><td>⋯                               </td><td>0                               </td><td>0                               </td><td>0                               </td><td>0                               </td><td>0                               </td><td>0                               </td><td>0                               </td><td>0                               </td><td>0                               </td><td>106                             </td></tr>\n",
       "\t<tr><td>010543a62bd80aa422851e79a3bc7540</td><td>0                               </td><td> 1212                           </td><td>sao paulo                       </td><td>SP                              </td><td>1                               </td><td>1                               </td><td>0                               </td><td>0                               </td><td>0                               </td><td>⋯                               </td><td>0                               </td><td>0                               </td><td>0                               </td><td>0                               </td><td>0                               </td><td>0                               </td><td>0                               </td><td>0                               </td><td>0                               </td><td>124                             </td></tr>\n",
       "\t<tr><td>011b0eaba87386a2ae96a7d32bb531d1</td><td>0                               </td><td>17580                           </td><td>pompeia                         </td><td>SP                              </td><td>1                               </td><td>1                               </td><td>0                               </td><td>0                               </td><td>0                               </td><td>⋯                               </td><td>0                               </td><td>0                               </td><td>0                               </td><td>0                               </td><td>0                               </td><td>0                               </td><td>0                               </td><td>0                               </td><td>0                               </td><td> 17                             </td></tr>\n",
       "\t<tr><td>01bcc9d254a0143f0ce9791b960b2a47</td><td>1                               </td><td>76400                           </td><td>uruacu                          </td><td>GO                              </td><td>1                               </td><td>3                               </td><td>0                               </td><td>0                               </td><td>0                               </td><td>⋯                               </td><td>0                               </td><td>0                               </td><td>0                               </td><td>0                               </td><td>0                               </td><td>0                               </td><td>0                               </td><td>0                               </td><td>0                               </td><td>183                             </td></tr>\n",
       "</tbody>\n",
       "</table>\n"
      ],
      "text/latex": [
       "\\begin{tabular}{r|llllllllllllllllllllllllllllllllllllllllllllllllllllllllllllllllllllllllllllllllll}\n",
       " seller\\_id & outcome & seller\\_zip\\_code\\_prefix & seller\\_city & seller\\_state & categories\\_count & products\\_count & cat\\_1 & cat\\_2 & cat\\_3 & ⋯ & cat\\_66 & cat\\_67 & cat\\_68 & cat\\_69 & cat\\_70 & cat\\_71 & cat\\_72 & cat\\_73 & cat\\_74 & competitors\\_count\\\\\n",
       "\\hline\n",
       "\t 0015a82c2db000af6aaaf3ae2ecb0532 & 0                                &  9080                            & santo andre                      & SP                               & 1                                & 1                                & 0                                & 0                                & 0                                & ⋯                                & 0                                & 0                                & 0                                & 0                                & 0                                & 0                                & 0                                & 0                                & 0                                &  56                             \\\\\n",
       "\t 003554e2dce176b5555353e4f3555ac8 & 0                                & 74565                            & goiania                          & GO                               & 1                                & 1                                & 1                                & 0                                & 0                                & ⋯                                & 0                                & 0                                & 0                                & 0                                & 0                                & 0                                & 0                                & 0                                & 0                                & 204                             \\\\\n",
       "\t 00ab3eff1b5192e5f1a63bcecfee11c8 & 0                                &  4164                            & sao paulo                        & SP                               & 1                                & 1                                & 0                                & 0                                & 0                                & ⋯                                & 0                                & 0                                & 0                                & 0                                & 0                                & 0                                & 0                                & 0                                & 0                                & 106                             \\\\\n",
       "\t 010543a62bd80aa422851e79a3bc7540 & 0                                &  1212                            & sao paulo                        & SP                               & 1                                & 1                                & 0                                & 0                                & 0                                & ⋯                                & 0                                & 0                                & 0                                & 0                                & 0                                & 0                                & 0                                & 0                                & 0                                & 124                             \\\\\n",
       "\t 011b0eaba87386a2ae96a7d32bb531d1 & 0                                & 17580                            & pompeia                          & SP                               & 1                                & 1                                & 0                                & 0                                & 0                                & ⋯                                & 0                                & 0                                & 0                                & 0                                & 0                                & 0                                & 0                                & 0                                & 0                                &  17                             \\\\\n",
       "\t 01bcc9d254a0143f0ce9791b960b2a47 & 1                                & 76400                            & uruacu                           & GO                               & 1                                & 3                                & 0                                & 0                                & 0                                & ⋯                                & 0                                & 0                                & 0                                & 0                                & 0                                & 0                                & 0                                & 0                                & 0                                & 183                             \\\\\n",
       "\\end{tabular}\n"
      ],
      "text/markdown": [
       "\n",
       "seller_id | outcome | seller_zip_code_prefix | seller_city | seller_state | categories_count | products_count | cat_1 | cat_2 | cat_3 | ⋯ | cat_66 | cat_67 | cat_68 | cat_69 | cat_70 | cat_71 | cat_72 | cat_73 | cat_74 | competitors_count | \n",
       "|---|---|---|---|---|---|\n",
       "| 0015a82c2db000af6aaaf3ae2ecb0532 | 0                                |  9080                            | santo andre                      | SP                               | 1                                | 1                                | 0                                | 0                                | 0                                | ⋯                                | 0                                | 0                                | 0                                | 0                                | 0                                | 0                                | 0                                | 0                                | 0                                |  56                              | \n",
       "| 003554e2dce176b5555353e4f3555ac8 | 0                                | 74565                            | goiania                          | GO                               | 1                                | 1                                | 1                                | 0                                | 0                                | ⋯                                | 0                                | 0                                | 0                                | 0                                | 0                                | 0                                | 0                                | 0                                | 0                                | 204                              | \n",
       "| 00ab3eff1b5192e5f1a63bcecfee11c8 | 0                                |  4164                            | sao paulo                        | SP                               | 1                                | 1                                | 0                                | 0                                | 0                                | ⋯                                | 0                                | 0                                | 0                                | 0                                | 0                                | 0                                | 0                                | 0                                | 0                                | 106                              | \n",
       "| 010543a62bd80aa422851e79a3bc7540 | 0                                |  1212                            | sao paulo                        | SP                               | 1                                | 1                                | 0                                | 0                                | 0                                | ⋯                                | 0                                | 0                                | 0                                | 0                                | 0                                | 0                                | 0                                | 0                                | 0                                | 124                              | \n",
       "| 011b0eaba87386a2ae96a7d32bb531d1 | 0                                | 17580                            | pompeia                          | SP                               | 1                                | 1                                | 0                                | 0                                | 0                                | ⋯                                | 0                                | 0                                | 0                                | 0                                | 0                                | 0                                | 0                                | 0                                | 0                                |  17                              | \n",
       "| 01bcc9d254a0143f0ce9791b960b2a47 | 1                                | 76400                            | uruacu                           | GO                               | 1                                | 3                                | 0                                | 0                                | 0                                | ⋯                                | 0                                | 0                                | 0                                | 0                                | 0                                | 0                                | 0                                | 0                                | 0                                | 183                              | \n",
       "\n",
       "\n"
      ],
      "text/plain": [
       "  seller_id                        outcome seller_zip_code_prefix seller_city\n",
       "1 0015a82c2db000af6aaaf3ae2ecb0532 0        9080                  santo andre\n",
       "2 003554e2dce176b5555353e4f3555ac8 0       74565                  goiania    \n",
       "3 00ab3eff1b5192e5f1a63bcecfee11c8 0        4164                  sao paulo  \n",
       "4 010543a62bd80aa422851e79a3bc7540 0        1212                  sao paulo  \n",
       "5 011b0eaba87386a2ae96a7d32bb531d1 0       17580                  pompeia    \n",
       "6 01bcc9d254a0143f0ce9791b960b2a47 1       76400                  uruacu     \n",
       "  seller_state categories_count products_count cat_1 cat_2 cat_3 ⋯ cat_66\n",
       "1 SP           1                1              0     0     0     ⋯ 0     \n",
       "2 GO           1                1              1     0     0     ⋯ 0     \n",
       "3 SP           1                1              0     0     0     ⋯ 0     \n",
       "4 SP           1                1              0     0     0     ⋯ 0     \n",
       "5 SP           1                1              0     0     0     ⋯ 0     \n",
       "6 GO           1                3              0     0     0     ⋯ 0     \n",
       "  cat_67 cat_68 cat_69 cat_70 cat_71 cat_72 cat_73 cat_74 competitors_count\n",
       "1 0      0      0      0      0      0      0      0       56              \n",
       "2 0      0      0      0      0      0      0      0      204              \n",
       "3 0      0      0      0      0      0      0      0      106              \n",
       "4 0      0      0      0      0      0      0      0      124              \n",
       "5 0      0      0      0      0      0      0      0       17              \n",
       "6 0      0      0      0      0      0      0      0      183              "
      ]
     },
     "metadata": {},
     "output_type": "display_data"
    }
   ],
   "source": [
    "sellers <- left_join(sellers, readSQL(query))\n",
    "head(sellers)"
   ]
  },
  {
   "cell_type": "code",
   "execution_count": 44,
   "metadata": {},
   "outputs": [],
   "source": [
    "writeSQL(sellers, \"sellers_dataset\")"
   ]
  },
  {
   "cell_type": "code",
   "execution_count": 49,
   "metadata": {},
   "outputs": [
    {
     "data": {
      "text/html": [
       "<table>\n",
       "<thead><tr><th scope=col>seller_id</th><th scope=col>outcome</th><th scope=col>seller_zip_code_prefix</th><th scope=col>seller_city</th><th scope=col>seller_state</th><th scope=col>categories_count</th><th scope=col>products_count</th><th scope=col>cat_1</th><th scope=col>cat_2</th><th scope=col>cat_3</th><th scope=col>⋯</th><th scope=col>cat_66</th><th scope=col>cat_67</th><th scope=col>cat_68</th><th scope=col>cat_69</th><th scope=col>cat_70</th><th scope=col>cat_71</th><th scope=col>cat_72</th><th scope=col>cat_73</th><th scope=col>cat_74</th><th scope=col>competitors_count</th></tr></thead>\n",
       "<tbody>\n",
       "\t<tr><td>0015a82c2db000af6aaaf3ae2ecb0532</td><td>0                               </td><td> 9080                           </td><td>santo andre                     </td><td>SP                              </td><td>1                               </td><td>1                               </td><td>0                               </td><td>0                               </td><td>0                               </td><td>⋯                               </td><td>0                               </td><td>0                               </td><td>0                               </td><td>0                               </td><td>0                               </td><td>0                               </td><td>0                               </td><td>0                               </td><td>0                               </td><td> 56                             </td></tr>\n",
       "\t<tr><td>003554e2dce176b5555353e4f3555ac8</td><td>0                               </td><td>74565                           </td><td>goiania                         </td><td>GO                              </td><td>1                               </td><td>1                               </td><td>1                               </td><td>0                               </td><td>0                               </td><td>⋯                               </td><td>0                               </td><td>0                               </td><td>0                               </td><td>0                               </td><td>0                               </td><td>0                               </td><td>0                               </td><td>0                               </td><td>0                               </td><td>204                             </td></tr>\n",
       "\t<tr><td>00ab3eff1b5192e5f1a63bcecfee11c8</td><td>0                               </td><td> 4164                           </td><td>sao paulo                       </td><td>SP                              </td><td>1                               </td><td>1                               </td><td>0                               </td><td>0                               </td><td>0                               </td><td>⋯                               </td><td>0                               </td><td>0                               </td><td>0                               </td><td>0                               </td><td>0                               </td><td>0                               </td><td>0                               </td><td>0                               </td><td>0                               </td><td>106                             </td></tr>\n",
       "\t<tr><td>010543a62bd80aa422851e79a3bc7540</td><td>0                               </td><td> 1212                           </td><td>sao paulo                       </td><td>SP                              </td><td>1                               </td><td>1                               </td><td>0                               </td><td>0                               </td><td>0                               </td><td>⋯                               </td><td>0                               </td><td>0                               </td><td>0                               </td><td>0                               </td><td>0                               </td><td>0                               </td><td>0                               </td><td>0                               </td><td>0                               </td><td>124                             </td></tr>\n",
       "\t<tr><td>011b0eaba87386a2ae96a7d32bb531d1</td><td>0                               </td><td>17580                           </td><td>pompeia                         </td><td>SP                              </td><td>1                               </td><td>1                               </td><td>0                               </td><td>0                               </td><td>0                               </td><td>⋯                               </td><td>0                               </td><td>0                               </td><td>0                               </td><td>0                               </td><td>0                               </td><td>0                               </td><td>0                               </td><td>0                               </td><td>0                               </td><td> 17                             </td></tr>\n",
       "\t<tr><td>01bcc9d254a0143f0ce9791b960b2a47</td><td>1                               </td><td>76400                           </td><td>uruacu                          </td><td>GO                              </td><td>1                               </td><td>3                               </td><td>0                               </td><td>0                               </td><td>0                               </td><td>⋯                               </td><td>0                               </td><td>0                               </td><td>0                               </td><td>0                               </td><td>0                               </td><td>0                               </td><td>0                               </td><td>0                               </td><td>0                               </td><td>183                             </td></tr>\n",
       "</tbody>\n",
       "</table>\n"
      ],
      "text/latex": [
       "\\begin{tabular}{r|llllllllllllllllllllllllllllllllllllllllllllllllllllllllllllllllllllllllllllllllll}\n",
       " seller\\_id & outcome & seller\\_zip\\_code\\_prefix & seller\\_city & seller\\_state & categories\\_count & products\\_count & cat\\_1 & cat\\_2 & cat\\_3 & ⋯ & cat\\_66 & cat\\_67 & cat\\_68 & cat\\_69 & cat\\_70 & cat\\_71 & cat\\_72 & cat\\_73 & cat\\_74 & competitors\\_count\\\\\n",
       "\\hline\n",
       "\t 0015a82c2db000af6aaaf3ae2ecb0532 & 0                                &  9080                            & santo andre                      & SP                               & 1                                & 1                                & 0                                & 0                                & 0                                & ⋯                                & 0                                & 0                                & 0                                & 0                                & 0                                & 0                                & 0                                & 0                                & 0                                &  56                             \\\\\n",
       "\t 003554e2dce176b5555353e4f3555ac8 & 0                                & 74565                            & goiania                          & GO                               & 1                                & 1                                & 1                                & 0                                & 0                                & ⋯                                & 0                                & 0                                & 0                                & 0                                & 0                                & 0                                & 0                                & 0                                & 0                                & 204                             \\\\\n",
       "\t 00ab3eff1b5192e5f1a63bcecfee11c8 & 0                                &  4164                            & sao paulo                        & SP                               & 1                                & 1                                & 0                                & 0                                & 0                                & ⋯                                & 0                                & 0                                & 0                                & 0                                & 0                                & 0                                & 0                                & 0                                & 0                                & 106                             \\\\\n",
       "\t 010543a62bd80aa422851e79a3bc7540 & 0                                &  1212                            & sao paulo                        & SP                               & 1                                & 1                                & 0                                & 0                                & 0                                & ⋯                                & 0                                & 0                                & 0                                & 0                                & 0                                & 0                                & 0                                & 0                                & 0                                & 124                             \\\\\n",
       "\t 011b0eaba87386a2ae96a7d32bb531d1 & 0                                & 17580                            & pompeia                          & SP                               & 1                                & 1                                & 0                                & 0                                & 0                                & ⋯                                & 0                                & 0                                & 0                                & 0                                & 0                                & 0                                & 0                                & 0                                & 0                                &  17                             \\\\\n",
       "\t 01bcc9d254a0143f0ce9791b960b2a47 & 1                                & 76400                            & uruacu                           & GO                               & 1                                & 3                                & 0                                & 0                                & 0                                & ⋯                                & 0                                & 0                                & 0                                & 0                                & 0                                & 0                                & 0                                & 0                                & 0                                & 183                             \\\\\n",
       "\\end{tabular}\n"
      ],
      "text/markdown": [
       "\n",
       "seller_id | outcome | seller_zip_code_prefix | seller_city | seller_state | categories_count | products_count | cat_1 | cat_2 | cat_3 | ⋯ | cat_66 | cat_67 | cat_68 | cat_69 | cat_70 | cat_71 | cat_72 | cat_73 | cat_74 | competitors_count | \n",
       "|---|---|---|---|---|---|\n",
       "| 0015a82c2db000af6aaaf3ae2ecb0532 | 0                                |  9080                            | santo andre                      | SP                               | 1                                | 1                                | 0                                | 0                                | 0                                | ⋯                                | 0                                | 0                                | 0                                | 0                                | 0                                | 0                                | 0                                | 0                                | 0                                |  56                              | \n",
       "| 003554e2dce176b5555353e4f3555ac8 | 0                                | 74565                            | goiania                          | GO                               | 1                                | 1                                | 1                                | 0                                | 0                                | ⋯                                | 0                                | 0                                | 0                                | 0                                | 0                                | 0                                | 0                                | 0                                | 0                                | 204                              | \n",
       "| 00ab3eff1b5192e5f1a63bcecfee11c8 | 0                                |  4164                            | sao paulo                        | SP                               | 1                                | 1                                | 0                                | 0                                | 0                                | ⋯                                | 0                                | 0                                | 0                                | 0                                | 0                                | 0                                | 0                                | 0                                | 0                                | 106                              | \n",
       "| 010543a62bd80aa422851e79a3bc7540 | 0                                |  1212                            | sao paulo                        | SP                               | 1                                | 1                                | 0                                | 0                                | 0                                | ⋯                                | 0                                | 0                                | 0                                | 0                                | 0                                | 0                                | 0                                | 0                                | 0                                | 124                              | \n",
       "| 011b0eaba87386a2ae96a7d32bb531d1 | 0                                | 17580                            | pompeia                          | SP                               | 1                                | 1                                | 0                                | 0                                | 0                                | ⋯                                | 0                                | 0                                | 0                                | 0                                | 0                                | 0                                | 0                                | 0                                | 0                                |  17                              | \n",
       "| 01bcc9d254a0143f0ce9791b960b2a47 | 1                                | 76400                            | uruacu                           | GO                               | 1                                | 3                                | 0                                | 0                                | 0                                | ⋯                                | 0                                | 0                                | 0                                | 0                                | 0                                | 0                                | 0                                | 0                                | 0                                | 183                              | \n",
       "\n",
       "\n"
      ],
      "text/plain": [
       "  seller_id                        outcome seller_zip_code_prefix seller_city\n",
       "1 0015a82c2db000af6aaaf3ae2ecb0532 0        9080                  santo andre\n",
       "2 003554e2dce176b5555353e4f3555ac8 0       74565                  goiania    \n",
       "3 00ab3eff1b5192e5f1a63bcecfee11c8 0        4164                  sao paulo  \n",
       "4 010543a62bd80aa422851e79a3bc7540 0        1212                  sao paulo  \n",
       "5 011b0eaba87386a2ae96a7d32bb531d1 0       17580                  pompeia    \n",
       "6 01bcc9d254a0143f0ce9791b960b2a47 1       76400                  uruacu     \n",
       "  seller_state categories_count products_count cat_1 cat_2 cat_3 ⋯ cat_66\n",
       "1 SP           1                1              0     0     0     ⋯ 0     \n",
       "2 GO           1                1              1     0     0     ⋯ 0     \n",
       "3 SP           1                1              0     0     0     ⋯ 0     \n",
       "4 SP           1                1              0     0     0     ⋯ 0     \n",
       "5 SP           1                1              0     0     0     ⋯ 0     \n",
       "6 GO           1                3              0     0     0     ⋯ 0     \n",
       "  cat_67 cat_68 cat_69 cat_70 cat_71 cat_72 cat_73 cat_74 competitors_count\n",
       "1 0      0      0      0      0      0      0      0       56              \n",
       "2 0      0      0      0      0      0      0      0      204              \n",
       "3 0      0      0      0      0      0      0      0      106              \n",
       "4 0      0      0      0      0      0      0      0      124              \n",
       "5 0      0      0      0      0      0      0      0       17              \n",
       "6 0      0      0      0      0      0      0      0      183              "
      ]
     },
     "metadata": {},
     "output_type": "display_data"
    },
    {
     "data": {
      "text/html": [
       "<ol class=list-inline>\n",
       "\t<li>901</li>\n",
       "\t<li>82</li>\n",
       "</ol>\n"
      ],
      "text/latex": [
       "\\begin{enumerate*}\n",
       "\\item 901\n",
       "\\item 82\n",
       "\\end{enumerate*}\n"
      ],
      "text/markdown": [
       "1. 901\n",
       "2. 82\n",
       "\n",
       "\n"
      ],
      "text/plain": [
       "[1] 901  82"
      ]
     },
     "metadata": {},
     "output_type": "display_data"
    }
   ],
   "source": [
    "head(readSQL(\"SELECT * FROM sellers_dataset\"))\n",
    "dim(readSQL(\"SELECT * FROM sellers_dataset\"))\n"
   ]
  },
  {
   "cell_type": "markdown",
   "metadata": {},
   "source": [
    "# Exploratory analysis and data cleansing\n",
    " \n",
    " - Identify data types and data distributions\n",
    " - Identify quantity and type of missing values\n",
    " - Identify outliers (univariate and multivariate)\n",
    " - Identify data patterns (using cluster analysis / PCA)\n"
   ]
  },
  {
   "cell_type": "code",
   "execution_count": 53,
   "metadata": {},
   "outputs": [],
   "source": [
    "library(mechkar)"
   ]
  },
  {
   "cell_type": "code",
   "execution_count": 67,
   "metadata": {},
   "outputs": [
    {
     "data": {
      "text/html": [
       "<table>\n",
       "<thead><tr><th scope=col>seller_id</th><th scope=col>outcome</th><th scope=col>seller_zip_code_prefix</th><th scope=col>seller_city</th><th scope=col>seller_state</th><th scope=col>categories_count</th><th scope=col>products_count</th><th scope=col>cat_1</th><th scope=col>cat_2</th><th scope=col>cat_3</th><th scope=col>⋯</th><th scope=col>cat_66</th><th scope=col>cat_67</th><th scope=col>cat_68</th><th scope=col>cat_69</th><th scope=col>cat_70</th><th scope=col>cat_71</th><th scope=col>cat_72</th><th scope=col>cat_73</th><th scope=col>cat_74</th><th scope=col>competitors_count</th></tr></thead>\n",
       "<tbody>\n",
       "\t<tr><td>0015a82c2db000af6aaaf3ae2ecb0532</td><td>0                               </td><td> 9080                           </td><td>santo andre                     </td><td>SP                              </td><td>1                               </td><td>1                               </td><td>0                               </td><td>0                               </td><td>0                               </td><td>⋯                               </td><td>0                               </td><td>0                               </td><td>0                               </td><td>0                               </td><td>0                               </td><td>0                               </td><td>0                               </td><td>0                               </td><td>0                               </td><td> 56                             </td></tr>\n",
       "\t<tr><td>003554e2dce176b5555353e4f3555ac8</td><td>0                               </td><td>74565                           </td><td>goiania                         </td><td>GO                              </td><td>1                               </td><td>1                               </td><td>1                               </td><td>0                               </td><td>0                               </td><td>⋯                               </td><td>0                               </td><td>0                               </td><td>0                               </td><td>0                               </td><td>0                               </td><td>0                               </td><td>0                               </td><td>0                               </td><td>0                               </td><td>204                             </td></tr>\n",
       "\t<tr><td>00ab3eff1b5192e5f1a63bcecfee11c8</td><td>0                               </td><td> 4164                           </td><td>sao paulo                       </td><td>SP                              </td><td>1                               </td><td>1                               </td><td>0                               </td><td>0                               </td><td>0                               </td><td>⋯                               </td><td>0                               </td><td>0                               </td><td>0                               </td><td>0                               </td><td>0                               </td><td>0                               </td><td>0                               </td><td>0                               </td><td>0                               </td><td>106                             </td></tr>\n",
       "\t<tr><td>010543a62bd80aa422851e79a3bc7540</td><td>0                               </td><td> 1212                           </td><td>sao paulo                       </td><td>SP                              </td><td>1                               </td><td>1                               </td><td>0                               </td><td>0                               </td><td>0                               </td><td>⋯                               </td><td>0                               </td><td>0                               </td><td>0                               </td><td>0                               </td><td>0                               </td><td>0                               </td><td>0                               </td><td>0                               </td><td>0                               </td><td>124                             </td></tr>\n",
       "\t<tr><td>011b0eaba87386a2ae96a7d32bb531d1</td><td>0                               </td><td>17580                           </td><td>pompeia                         </td><td>SP                              </td><td>1                               </td><td>1                               </td><td>0                               </td><td>0                               </td><td>0                               </td><td>⋯                               </td><td>0                               </td><td>0                               </td><td>0                               </td><td>0                               </td><td>0                               </td><td>0                               </td><td>0                               </td><td>0                               </td><td>0                               </td><td> 17                             </td></tr>\n",
       "\t<tr><td>01bcc9d254a0143f0ce9791b960b2a47</td><td>1                               </td><td>76400                           </td><td>uruacu                          </td><td>GO                              </td><td>1                               </td><td>3                               </td><td>0                               </td><td>0                               </td><td>0                               </td><td>⋯                               </td><td>0                               </td><td>0                               </td><td>0                               </td><td>0                               </td><td>0                               </td><td>0                               </td><td>0                               </td><td>0                               </td><td>0                               </td><td>183                             </td></tr>\n",
       "</tbody>\n",
       "</table>\n"
      ],
      "text/latex": [
       "\\begin{tabular}{r|llllllllllllllllllllllllllllllllllllllllllllllllllllllllllllllllllllllllllllllllll}\n",
       " seller\\_id & outcome & seller\\_zip\\_code\\_prefix & seller\\_city & seller\\_state & categories\\_count & products\\_count & cat\\_1 & cat\\_2 & cat\\_3 & ⋯ & cat\\_66 & cat\\_67 & cat\\_68 & cat\\_69 & cat\\_70 & cat\\_71 & cat\\_72 & cat\\_73 & cat\\_74 & competitors\\_count\\\\\n",
       "\\hline\n",
       "\t 0015a82c2db000af6aaaf3ae2ecb0532 & 0                                &  9080                            & santo andre                      & SP                               & 1                                & 1                                & 0                                & 0                                & 0                                & ⋯                                & 0                                & 0                                & 0                                & 0                                & 0                                & 0                                & 0                                & 0                                & 0                                &  56                             \\\\\n",
       "\t 003554e2dce176b5555353e4f3555ac8 & 0                                & 74565                            & goiania                          & GO                               & 1                                & 1                                & 1                                & 0                                & 0                                & ⋯                                & 0                                & 0                                & 0                                & 0                                & 0                                & 0                                & 0                                & 0                                & 0                                & 204                             \\\\\n",
       "\t 00ab3eff1b5192e5f1a63bcecfee11c8 & 0                                &  4164                            & sao paulo                        & SP                               & 1                                & 1                                & 0                                & 0                                & 0                                & ⋯                                & 0                                & 0                                & 0                                & 0                                & 0                                & 0                                & 0                                & 0                                & 0                                & 106                             \\\\\n",
       "\t 010543a62bd80aa422851e79a3bc7540 & 0                                &  1212                            & sao paulo                        & SP                               & 1                                & 1                                & 0                                & 0                                & 0                                & ⋯                                & 0                                & 0                                & 0                                & 0                                & 0                                & 0                                & 0                                & 0                                & 0                                & 124                             \\\\\n",
       "\t 011b0eaba87386a2ae96a7d32bb531d1 & 0                                & 17580                            & pompeia                          & SP                               & 1                                & 1                                & 0                                & 0                                & 0                                & ⋯                                & 0                                & 0                                & 0                                & 0                                & 0                                & 0                                & 0                                & 0                                & 0                                &  17                             \\\\\n",
       "\t 01bcc9d254a0143f0ce9791b960b2a47 & 1                                & 76400                            & uruacu                           & GO                               & 1                                & 3                                & 0                                & 0                                & 0                                & ⋯                                & 0                                & 0                                & 0                                & 0                                & 0                                & 0                                & 0                                & 0                                & 0                                & 183                             \\\\\n",
       "\\end{tabular}\n"
      ],
      "text/markdown": [
       "\n",
       "seller_id | outcome | seller_zip_code_prefix | seller_city | seller_state | categories_count | products_count | cat_1 | cat_2 | cat_3 | ⋯ | cat_66 | cat_67 | cat_68 | cat_69 | cat_70 | cat_71 | cat_72 | cat_73 | cat_74 | competitors_count | \n",
       "|---|---|---|---|---|---|\n",
       "| 0015a82c2db000af6aaaf3ae2ecb0532 | 0                                |  9080                            | santo andre                      | SP                               | 1                                | 1                                | 0                                | 0                                | 0                                | ⋯                                | 0                                | 0                                | 0                                | 0                                | 0                                | 0                                | 0                                | 0                                | 0                                |  56                              | \n",
       "| 003554e2dce176b5555353e4f3555ac8 | 0                                | 74565                            | goiania                          | GO                               | 1                                | 1                                | 1                                | 0                                | 0                                | ⋯                                | 0                                | 0                                | 0                                | 0                                | 0                                | 0                                | 0                                | 0                                | 0                                | 204                              | \n",
       "| 00ab3eff1b5192e5f1a63bcecfee11c8 | 0                                |  4164                            | sao paulo                        | SP                               | 1                                | 1                                | 0                                | 0                                | 0                                | ⋯                                | 0                                | 0                                | 0                                | 0                                | 0                                | 0                                | 0                                | 0                                | 0                                | 106                              | \n",
       "| 010543a62bd80aa422851e79a3bc7540 | 0                                |  1212                            | sao paulo                        | SP                               | 1                                | 1                                | 0                                | 0                                | 0                                | ⋯                                | 0                                | 0                                | 0                                | 0                                | 0                                | 0                                | 0                                | 0                                | 0                                | 124                              | \n",
       "| 011b0eaba87386a2ae96a7d32bb531d1 | 0                                | 17580                            | pompeia                          | SP                               | 1                                | 1                                | 0                                | 0                                | 0                                | ⋯                                | 0                                | 0                                | 0                                | 0                                | 0                                | 0                                | 0                                | 0                                | 0                                |  17                              | \n",
       "| 01bcc9d254a0143f0ce9791b960b2a47 | 1                                | 76400                            | uruacu                           | GO                               | 1                                | 3                                | 0                                | 0                                | 0                                | ⋯                                | 0                                | 0                                | 0                                | 0                                | 0                                | 0                                | 0                                | 0                                | 0                                | 183                              | \n",
       "\n",
       "\n"
      ],
      "text/plain": [
       "  seller_id                        outcome seller_zip_code_prefix seller_city\n",
       "1 0015a82c2db000af6aaaf3ae2ecb0532 0        9080                  santo andre\n",
       "2 003554e2dce176b5555353e4f3555ac8 0       74565                  goiania    \n",
       "3 00ab3eff1b5192e5f1a63bcecfee11c8 0        4164                  sao paulo  \n",
       "4 010543a62bd80aa422851e79a3bc7540 0        1212                  sao paulo  \n",
       "5 011b0eaba87386a2ae96a7d32bb531d1 0       17580                  pompeia    \n",
       "6 01bcc9d254a0143f0ce9791b960b2a47 1       76400                  uruacu     \n",
       "  seller_state categories_count products_count cat_1 cat_2 cat_3 ⋯ cat_66\n",
       "1 SP           1                1              0     0     0     ⋯ 0     \n",
       "2 GO           1                1              1     0     0     ⋯ 0     \n",
       "3 SP           1                1              0     0     0     ⋯ 0     \n",
       "4 SP           1                1              0     0     0     ⋯ 0     \n",
       "5 SP           1                1              0     0     0     ⋯ 0     \n",
       "6 GO           1                3              0     0     0     ⋯ 0     \n",
       "  cat_67 cat_68 cat_69 cat_70 cat_71 cat_72 cat_73 cat_74 competitors_count\n",
       "1 0      0      0      0      0      0      0      0       56              \n",
       "2 0      0      0      0      0      0      0      0      204              \n",
       "3 0      0      0      0      0      0      0      0      106              \n",
       "4 0      0      0      0      0      0      0      0      124              \n",
       "5 0      0      0      0      0      0      0      0       17              \n",
       "6 0      0      0      0      0      0      0      0      183              "
      ]
     },
     "metadata": {},
     "output_type": "display_data"
    },
    {
     "data": {
      "text/html": [
       "<ol class=list-inline>\n",
       "\t<li>901</li>\n",
       "\t<li>82</li>\n",
       "</ol>\n"
      ],
      "text/latex": [
       "\\begin{enumerate*}\n",
       "\\item 901\n",
       "\\item 82\n",
       "\\end{enumerate*}\n"
      ],
      "text/markdown": [
       "1. 901\n",
       "2. 82\n",
       "\n",
       "\n"
      ],
      "text/plain": [
       "[1] 901  82"
      ]
     },
     "metadata": {},
     "output_type": "display_data"
    }
   ],
   "source": [
    "#seller <- readSQL(\"SELECT * FROM seller_dataset\")\n",
    "head(sellers)\n",
    "dim(sellers)\n",
    "sellers$outcome <- factor(sellers$outcome)"
   ]
  },
  {
   "cell_type": "code",
   "execution_count": 70,
   "metadata": {},
   "outputs": [
    {
     "data": {
      "text/html": [
       "<dl class=dl-horizontal>\n",
       "\t<dt>0</dt>\n",
       "\t\t<dd>569</dd>\n",
       "\t<dt>1</dt>\n",
       "\t\t<dd>332</dd>\n",
       "</dl>\n"
      ],
      "text/latex": [
       "\\begin{description*}\n",
       "\\item[0] 569\n",
       "\\item[1] 332\n",
       "\\end{description*}\n"
      ],
      "text/markdown": [
       "0\n",
       ":   5691\n",
       ":   332\n",
       "\n"
      ],
      "text/plain": [
       "  0   1 \n",
       "569 332 "
      ]
     },
     "metadata": {},
     "output_type": "display_data"
    }
   ],
   "source": [
    "summary(sellers$outcome)"
   ]
  },
  {
   "cell_type": "code",
   "execution_count": 96,
   "metadata": {},
   "outputs": [],
   "source": [
    "excludeUniqueValue <- function(data) {\n",
    "    nm <- names(data)\n",
    "    res <- NULL\n",
    "    for(n in nm) {\n",
    "        if(length(unique(data[[n]]))==1) {\n",
    "            data[[n]] <- NULL\n",
    "            res <- c(res, n)\n",
    "            #print(n)\n",
    "        }\n",
    "    }\n",
    "    if(length(res) > 0) {\n",
    "        message(\"The following variables had only one unique values and were removed\")\n",
    "        message(res)\n",
    "    }\n",
    "    return(data)\n",
    "}"
   ]
  },
  {
   "cell_type": "code",
   "execution_count": 97,
   "metadata": {},
   "outputs": [
    {
     "name": "stderr",
     "output_type": "stream",
     "text": [
      "The following variables had only one unique values and were removed\n",
      "cat_7cat_17cat_19cat_25cat_43cat_48cat_62cat_67cat_69\n"
     ]
    },
    {
     "data": {
      "text/plain": [
       "  seller_id         outcome seller_zip_code_prefix seller_city       \n",
       " Length:901         0:569   Min.   : 1026          Length:901        \n",
       " Class :character   1:332   1st Qu.: 6787          Class :character  \n",
       " Mode  :character           Median :15170          Mode  :character  \n",
       "                            Mean   :33129                            \n",
       "                            3rd Qu.:74210                            \n",
       "                            Max.   :99700                            \n",
       " seller_state       categories_count products_count       cat_1       \n",
       " Length:901         Min.   : 1.00    Min.   : 1.000   Min.   :0.0000  \n",
       " Class :character   1st Qu.: 1.00    1st Qu.: 1.000   1st Qu.:0.0000  \n",
       " Mode  :character   Median : 1.00    Median : 2.000   Median :0.0000  \n",
       "                    Mean   : 1.58    Mean   : 3.788   Mean   :0.1743  \n",
       "                    3rd Qu.: 2.00    3rd Qu.: 4.000   3rd Qu.:0.0000  \n",
       "                    Max.   :11.00    Max.   :53.000   Max.   :1.0000  \n",
       "     cat_2             cat_3              cat_4            cat_5         \n",
       " Min.   :0.00000   Min.   :0.000000   Min.   :0.0000   Min.   :0.000000  \n",
       " 1st Qu.:0.00000   1st Qu.:0.000000   1st Qu.:0.0000   1st Qu.:0.000000  \n",
       " Median :0.00000   Median :0.000000   Median :0.0000   Median :0.000000  \n",
       " Mean   :0.00222   Mean   :0.007769   Mean   :0.0111   Mean   :0.009989  \n",
       " 3rd Qu.:0.00000   3rd Qu.:0.000000   3rd Qu.:0.0000   3rd Qu.:0.000000  \n",
       " Max.   :1.00000   Max.   :1.000000   Max.   :1.0000   Max.   :1.000000  \n",
       "     cat_6             cat_8             cat_9              cat_10       \n",
       " Min.   :0.00000   Min.   :0.00000   Min.   :0.000000   Min.   :0.00000  \n",
       " 1st Qu.:0.00000   1st Qu.:0.00000   1st Qu.:0.000000   1st Qu.:0.00000  \n",
       " Median :0.00000   Median :0.00000   Median :0.000000   Median :0.00000  \n",
       " Mean   :0.00111   Mean   :0.00333   Mean   :0.008879   Mean   :0.09101  \n",
       " 3rd Qu.:0.00000   3rd Qu.:0.00000   3rd Qu.:0.000000   3rd Qu.:0.00000  \n",
       " Max.   :1.00000   Max.   :1.00000   Max.   :1.000000   Max.   :1.00000  \n",
       "     cat_11            cat_12             cat_13           cat_14       \n",
       " Min.   :0.00000   Min.   :0.000000   Min.   :0.0000   Min.   :0.00000  \n",
       " 1st Qu.:0.00000   1st Qu.:0.000000   1st Qu.:0.0000   1st Qu.:0.00000  \n",
       " Median :0.00000   Median :0.000000   Median :0.0000   Median :0.00000  \n",
       " Mean   :0.03885   Mean   :0.004439   Mean   :0.1077   Mean   :0.05771  \n",
       " 3rd Qu.:0.00000   3rd Qu.:0.000000   3rd Qu.:0.0000   3rd Qu.:0.00000  \n",
       " Max.   :1.00000   Max.   :1.000000   Max.   :1.0000   Max.   :1.00000  \n",
       "     cat_15            cat_16             cat_18             cat_20       \n",
       " Min.   :0.00000   Min.   :0.000000   Min.   :0.000000   Min.   :0.00000  \n",
       " 1st Qu.:0.00000   1st Qu.:0.000000   1st Qu.:0.000000   1st Qu.:0.00000  \n",
       " Median :0.00000   Median :0.000000   Median :0.000000   Median :0.00000  \n",
       " Mean   :0.03552   Mean   :0.004439   Mean   :0.007769   Mean   :0.00111  \n",
       " 3rd Qu.:0.00000   3rd Qu.:0.000000   3rd Qu.:0.000000   3rd Qu.:0.00000  \n",
       " Max.   :1.00000   Max.   :1.000000   Max.   :1.000000   Max.   :1.00000  \n",
       "     cat_21             cat_22            cat_23           cat_24       \n",
       " Min.   :0.000000   Min.   :0.00000   Min.   :0.0000   Min.   :0.00000  \n",
       " 1st Qu.:0.000000   1st Qu.:0.00000   1st Qu.:0.0000   1st Qu.:0.00000  \n",
       " Median :0.000000   Median :0.00000   Median :0.0000   Median :0.00000  \n",
       " Mean   :0.009989   Mean   :0.01554   Mean   :0.0111   Mean   :0.00111  \n",
       " 3rd Qu.:0.000000   3rd Qu.:0.00000   3rd Qu.:0.0000   3rd Qu.:0.00000  \n",
       " Max.   :1.000000   Max.   :1.00000   Max.   :1.0000   Max.   :1.00000  \n",
       "     cat_26             cat_27             cat_28           cat_29       \n",
       " Min.   :0.000000   Min.   :0.000000   Min.   :0.0000   Min.   :0.00000  \n",
       " 1st Qu.:0.000000   1st Qu.:0.000000   1st Qu.:0.0000   1st Qu.:0.00000  \n",
       " Median :0.000000   Median :0.000000   Median :0.0000   Median :0.00000  \n",
       " Mean   :0.004439   Mean   :0.005549   Mean   :0.0788   Mean   :0.00111  \n",
       " 3rd Qu.:0.000000   3rd Qu.:0.000000   3rd Qu.:0.0000   3rd Qu.:0.00000  \n",
       " Max.   :1.000000   Max.   :1.000000   Max.   :1.0000   Max.   :1.00000  \n",
       "     cat_30             cat_31             cat_32            cat_33       \n",
       " Min.   :0.000000   Min.   :0.000000   Min.   :0.00000   Min.   :0.00000  \n",
       " 1st Qu.:0.000000   1st Qu.:0.000000   1st Qu.:0.00000   1st Qu.:0.00000  \n",
       " Median :0.000000   Median :0.000000   Median :0.00000   Median :0.00000  \n",
       " Mean   :0.009989   Mean   :0.008879   Mean   :0.01998   Mean   :0.02442  \n",
       " 3rd Qu.:0.000000   3rd Qu.:0.000000   3rd Qu.:0.00000   3rd Qu.:0.00000  \n",
       " Max.   :1.000000   Max.   :1.000000   Max.   :1.00000   Max.   :1.00000  \n",
       "     cat_34           cat_35            cat_36            cat_37       \n",
       " Min.   :0.0000   Min.   :0.00000   Min.   :0.00000   Min.   :0.00000  \n",
       " 1st Qu.:0.0000   1st Qu.:0.00000   1st Qu.:0.00000   1st Qu.:0.00000  \n",
       " Median :0.0000   Median :0.00000   Median :0.00000   Median :0.00000  \n",
       " Mean   :0.1188   Mean   :0.02553   Mean   :0.00222   Mean   :0.00333  \n",
       " 3rd Qu.:0.0000   3rd Qu.:0.00000   3rd Qu.:0.00000   3rd Qu.:0.00000  \n",
       " Max.   :1.0000   Max.   :1.00000   Max.   :1.00000   Max.   :1.00000  \n",
       "     cat_38             cat_39            cat_40            cat_41        \n",
       " Min.   :0.000000   Min.   :0.00000   Min.   :0.00000   Min.   :0.000000  \n",
       " 1st Qu.:0.000000   1st Qu.:0.00000   1st Qu.:0.00000   1st Qu.:0.000000  \n",
       " Median :0.000000   Median :0.00000   Median :0.00000   Median :0.000000  \n",
       " Mean   :0.006659   Mean   :0.00222   Mean   :0.00333   Mean   :0.004439  \n",
       " 3rd Qu.:0.000000   3rd Qu.:0.00000   3rd Qu.:0.00000   3rd Qu.:0.000000  \n",
       " Max.   :1.000000   Max.   :1.00000   Max.   :1.00000   Max.   :1.000000  \n",
       "     cat_42            cat_44            cat_45             cat_46      \n",
       " Min.   :0.00000   Min.   :0.00000   Min.   :0.000000   Min.   :0.0000  \n",
       " 1st Qu.:0.00000   1st Qu.:0.00000   1st Qu.:0.000000   1st Qu.:0.0000  \n",
       " Median :0.00000   Median :0.00000   Median :0.000000   Median :0.0000  \n",
       " Mean   :0.06326   Mean   :0.00111   Mean   :0.008879   Mean   :0.0788  \n",
       " 3rd Qu.:0.00000   3rd Qu.:0.00000   3rd Qu.:0.000000   3rd Qu.:0.0000  \n",
       " Max.   :1.00000   Max.   :1.00000   Max.   :1.000000   Max.   :1.0000  \n",
       "     cat_47            cat_49            cat_50            cat_51        \n",
       " Min.   :0.00000   Min.   :0.00000   Min.   :0.00000   Min.   :0.000000  \n",
       " 1st Qu.:0.00000   1st Qu.:0.00000   1st Qu.:0.00000   1st Qu.:0.000000  \n",
       " Median :0.00000   Median :0.00000   Median :0.00000   Median :0.000000  \n",
       " Mean   :0.01887   Mean   :0.00222   Mean   :0.01221   Mean   :0.007769  \n",
       " 3rd Qu.:0.00000   3rd Qu.:0.00000   3rd Qu.:0.00000   3rd Qu.:0.000000  \n",
       " Max.   :1.00000   Max.   :1.00000   Max.   :1.00000   Max.   :1.000000  \n",
       "     cat_52            cat_53            cat_54            cat_55       \n",
       " Min.   :0.00000   Min.   :0.00000   Min.   :0.00000   Min.   :0.00000  \n",
       " 1st Qu.:0.00000   1st Qu.:0.00000   1st Qu.:0.00000   1st Qu.:0.00000  \n",
       " Median :0.00000   Median :0.00000   Median :0.00000   Median :0.00000  \n",
       " Mean   :0.01221   Mean   :0.01887   Mean   :0.00111   Mean   :0.01332  \n",
       " 3rd Qu.:0.00000   3rd Qu.:0.00000   3rd Qu.:0.00000   3rd Qu.:0.00000  \n",
       " Max.   :1.00000   Max.   :1.00000   Max.   :1.00000   Max.   :1.00000  \n",
       "     cat_56          cat_57            cat_58             cat_59       \n",
       " Min.   :0.000   Min.   :0.00000   Min.   :0.000000   Min.   :0.00000  \n",
       " 1st Qu.:0.000   1st Qu.:0.00000   1st Qu.:0.000000   1st Qu.:0.00000  \n",
       " Median :0.000   Median :0.00000   Median :0.000000   Median :0.00000  \n",
       " Mean   :0.131   Mean   :0.01332   Mean   :0.008879   Mean   :0.01221  \n",
       " 3rd Qu.:0.000   3rd Qu.:0.00000   3rd Qu.:0.000000   3rd Qu.:0.00000  \n",
       " Max.   :1.000   Max.   :1.00000   Max.   :1.000000   Max.   :1.00000  \n",
       "     cat_60            cat_61            cat_63            cat_64       \n",
       " Min.   :0.00000   Min.   :0.00000   Min.   :0.00000   Min.   :0.00000  \n",
       " 1st Qu.:0.00000   1st Qu.:0.00000   1st Qu.:0.00000   1st Qu.:0.00000  \n",
       " Median :0.00000   Median :0.00000   Median :0.00000   Median :0.00000  \n",
       " Mean   :0.00333   Mean   :0.03108   Mean   :0.00222   Mean   :0.03108  \n",
       " 3rd Qu.:0.00000   3rd Qu.:0.00000   3rd Qu.:0.00000   3rd Qu.:0.00000  \n",
       " Max.   :1.00000   Max.   :1.00000   Max.   :1.00000   Max.   :1.00000  \n",
       "     cat_65            cat_66            cat_68            cat_70       \n",
       " Min.   :0.00000   Min.   :0.00000   Min.   :0.00000   Min.   :0.00000  \n",
       " 1st Qu.:0.00000   1st Qu.:0.00000   1st Qu.:0.00000   1st Qu.:0.00000  \n",
       " Median :0.00000   Median :0.00000   Median :0.00000   Median :0.00000  \n",
       " Mean   :0.02331   Mean   :0.00111   Mean   :0.01887   Mean   :0.00333  \n",
       " 3rd Qu.:0.00000   3rd Qu.:0.00000   3rd Qu.:0.00000   3rd Qu.:0.00000  \n",
       " Max.   :1.00000   Max.   :1.00000   Max.   :1.00000   Max.   :1.00000  \n",
       "     cat_71            cat_72            cat_73            cat_74       \n",
       " Min.   :0.00000   Min.   :0.00000   Min.   :0.00000   Min.   :0.00000  \n",
       " 1st Qu.:0.00000   1st Qu.:0.00000   1st Qu.:0.00000   1st Qu.:0.00000  \n",
       " Median :0.00000   Median :0.00000   Median :0.00000   Median :0.00000  \n",
       " Mean   :0.00111   Mean   :0.03108   Mean   :0.01221   Mean   :0.09323  \n",
       " 3rd Qu.:0.00000   3rd Qu.:0.00000   3rd Qu.:0.00000   3rd Qu.:0.00000  \n",
       " Max.   :1.00000   Max.   :1.00000   Max.   :1.00000   Max.   :1.00000  \n",
       " competitors_count\n",
       " Min.   :  1.0    \n",
       " 1st Qu.: 48.0    \n",
       " Median :108.0    \n",
       " Mean   :130.5    \n",
       " 3rd Qu.:192.0    \n",
       " Max.   :891.0    "
      ]
     },
     "metadata": {},
     "output_type": "display_data"
    }
   ],
   "source": [
    "summary(excludeUniqueValue(sellers))"
   ]
  },
  {
   "cell_type": "code",
   "execution_count": 98,
   "metadata": {},
   "outputs": [
    {
     "name": "stderr",
     "output_type": "stream",
     "text": [
      "The following variables had only one unique values and were removed\n",
      "cat_7cat_17cat_19cat_25cat_43cat_48cat_62cat_67cat_69\n"
     ]
    },
    {
     "data": {
      "text/html": [
       "<table>\n",
       "<thead><tr><th scope=col>seller_id</th><th scope=col>outcome</th><th scope=col>seller_zip_code_prefix</th><th scope=col>seller_city</th><th scope=col>seller_state</th><th scope=col>categories_count</th><th scope=col>products_count</th><th scope=col>cat_1</th><th scope=col>cat_2</th><th scope=col>cat_3</th><th scope=col>⋯</th><th scope=col>cat_64</th><th scope=col>cat_65</th><th scope=col>cat_66</th><th scope=col>cat_68</th><th scope=col>cat_70</th><th scope=col>cat_71</th><th scope=col>cat_72</th><th scope=col>cat_73</th><th scope=col>cat_74</th><th scope=col>competitors_count</th></tr></thead>\n",
       "<tbody>\n",
       "\t<tr><td>0015a82c2db000af6aaaf3ae2ecb0532</td><td>0                               </td><td> 9080                           </td><td>santo andre                     </td><td>SP                              </td><td>1                               </td><td>1                               </td><td>0                               </td><td>0                               </td><td>0                               </td><td>⋯                               </td><td>0                               </td><td>0                               </td><td>0                               </td><td>0                               </td><td>0                               </td><td>0                               </td><td>0                               </td><td>0                               </td><td>0                               </td><td> 56                             </td></tr>\n",
       "\t<tr><td>003554e2dce176b5555353e4f3555ac8</td><td>0                               </td><td>74565                           </td><td>goiania                         </td><td>GO                              </td><td>1                               </td><td>1                               </td><td>1                               </td><td>0                               </td><td>0                               </td><td>⋯                               </td><td>0                               </td><td>0                               </td><td>0                               </td><td>0                               </td><td>0                               </td><td>0                               </td><td>0                               </td><td>0                               </td><td>0                               </td><td>204                             </td></tr>\n",
       "\t<tr><td>00ab3eff1b5192e5f1a63bcecfee11c8</td><td>0                               </td><td> 4164                           </td><td>sao paulo                       </td><td>SP                              </td><td>1                               </td><td>1                               </td><td>0                               </td><td>0                               </td><td>0                               </td><td>⋯                               </td><td>0                               </td><td>0                               </td><td>0                               </td><td>0                               </td><td>0                               </td><td>0                               </td><td>0                               </td><td>0                               </td><td>0                               </td><td>106                             </td></tr>\n",
       "\t<tr><td>010543a62bd80aa422851e79a3bc7540</td><td>0                               </td><td> 1212                           </td><td>sao paulo                       </td><td>SP                              </td><td>1                               </td><td>1                               </td><td>0                               </td><td>0                               </td><td>0                               </td><td>⋯                               </td><td>0                               </td><td>0                               </td><td>0                               </td><td>0                               </td><td>0                               </td><td>0                               </td><td>0                               </td><td>0                               </td><td>0                               </td><td>124                             </td></tr>\n",
       "\t<tr><td>011b0eaba87386a2ae96a7d32bb531d1</td><td>0                               </td><td>17580                           </td><td>pompeia                         </td><td>SP                              </td><td>1                               </td><td>1                               </td><td>0                               </td><td>0                               </td><td>0                               </td><td>⋯                               </td><td>0                               </td><td>0                               </td><td>0                               </td><td>0                               </td><td>0                               </td><td>0                               </td><td>0                               </td><td>0                               </td><td>0                               </td><td> 17                             </td></tr>\n",
       "\t<tr><td>01bcc9d254a0143f0ce9791b960b2a47</td><td>1                               </td><td>76400                           </td><td>uruacu                          </td><td>GO                              </td><td>1                               </td><td>3                               </td><td>0                               </td><td>0                               </td><td>0                               </td><td>⋯                               </td><td>0                               </td><td>0                               </td><td>0                               </td><td>0                               </td><td>0                               </td><td>0                               </td><td>0                               </td><td>0                               </td><td>0                               </td><td>183                             </td></tr>\n",
       "</tbody>\n",
       "</table>\n"
      ],
      "text/latex": [
       "\\begin{tabular}{r|lllllllllllllllllllllllllllllllllllllllllllllllllllllllllllllllllllllllll}\n",
       " seller\\_id & outcome & seller\\_zip\\_code\\_prefix & seller\\_city & seller\\_state & categories\\_count & products\\_count & cat\\_1 & cat\\_2 & cat\\_3 & ⋯ & cat\\_64 & cat\\_65 & cat\\_66 & cat\\_68 & cat\\_70 & cat\\_71 & cat\\_72 & cat\\_73 & cat\\_74 & competitors\\_count\\\\\n",
       "\\hline\n",
       "\t 0015a82c2db000af6aaaf3ae2ecb0532 & 0                                &  9080                            & santo andre                      & SP                               & 1                                & 1                                & 0                                & 0                                & 0                                & ⋯                                & 0                                & 0                                & 0                                & 0                                & 0                                & 0                                & 0                                & 0                                & 0                                &  56                             \\\\\n",
       "\t 003554e2dce176b5555353e4f3555ac8 & 0                                & 74565                            & goiania                          & GO                               & 1                                & 1                                & 1                                & 0                                & 0                                & ⋯                                & 0                                & 0                                & 0                                & 0                                & 0                                & 0                                & 0                                & 0                                & 0                                & 204                             \\\\\n",
       "\t 00ab3eff1b5192e5f1a63bcecfee11c8 & 0                                &  4164                            & sao paulo                        & SP                               & 1                                & 1                                & 0                                & 0                                & 0                                & ⋯                                & 0                                & 0                                & 0                                & 0                                & 0                                & 0                                & 0                                & 0                                & 0                                & 106                             \\\\\n",
       "\t 010543a62bd80aa422851e79a3bc7540 & 0                                &  1212                            & sao paulo                        & SP                               & 1                                & 1                                & 0                                & 0                                & 0                                & ⋯                                & 0                                & 0                                & 0                                & 0                                & 0                                & 0                                & 0                                & 0                                & 0                                & 124                             \\\\\n",
       "\t 011b0eaba87386a2ae96a7d32bb531d1 & 0                                & 17580                            & pompeia                          & SP                               & 1                                & 1                                & 0                                & 0                                & 0                                & ⋯                                & 0                                & 0                                & 0                                & 0                                & 0                                & 0                                & 0                                & 0                                & 0                                &  17                             \\\\\n",
       "\t 01bcc9d254a0143f0ce9791b960b2a47 & 1                                & 76400                            & uruacu                           & GO                               & 1                                & 3                                & 0                                & 0                                & 0                                & ⋯                                & 0                                & 0                                & 0                                & 0                                & 0                                & 0                                & 0                                & 0                                & 0                                & 183                             \\\\\n",
       "\\end{tabular}\n"
      ],
      "text/markdown": [
       "\n",
       "seller_id | outcome | seller_zip_code_prefix | seller_city | seller_state | categories_count | products_count | cat_1 | cat_2 | cat_3 | ⋯ | cat_64 | cat_65 | cat_66 | cat_68 | cat_70 | cat_71 | cat_72 | cat_73 | cat_74 | competitors_count | \n",
       "|---|---|---|---|---|---|\n",
       "| 0015a82c2db000af6aaaf3ae2ecb0532 | 0                                |  9080                            | santo andre                      | SP                               | 1                                | 1                                | 0                                | 0                                | 0                                | ⋯                                | 0                                | 0                                | 0                                | 0                                | 0                                | 0                                | 0                                | 0                                | 0                                |  56                              | \n",
       "| 003554e2dce176b5555353e4f3555ac8 | 0                                | 74565                            | goiania                          | GO                               | 1                                | 1                                | 1                                | 0                                | 0                                | ⋯                                | 0                                | 0                                | 0                                | 0                                | 0                                | 0                                | 0                                | 0                                | 0                                | 204                              | \n",
       "| 00ab3eff1b5192e5f1a63bcecfee11c8 | 0                                |  4164                            | sao paulo                        | SP                               | 1                                | 1                                | 0                                | 0                                | 0                                | ⋯                                | 0                                | 0                                | 0                                | 0                                | 0                                | 0                                | 0                                | 0                                | 0                                | 106                              | \n",
       "| 010543a62bd80aa422851e79a3bc7540 | 0                                |  1212                            | sao paulo                        | SP                               | 1                                | 1                                | 0                                | 0                                | 0                                | ⋯                                | 0                                | 0                                | 0                                | 0                                | 0                                | 0                                | 0                                | 0                                | 0                                | 124                              | \n",
       "| 011b0eaba87386a2ae96a7d32bb531d1 | 0                                | 17580                            | pompeia                          | SP                               | 1                                | 1                                | 0                                | 0                                | 0                                | ⋯                                | 0                                | 0                                | 0                                | 0                                | 0                                | 0                                | 0                                | 0                                | 0                                |  17                              | \n",
       "| 01bcc9d254a0143f0ce9791b960b2a47 | 1                                | 76400                            | uruacu                           | GO                               | 1                                | 3                                | 0                                | 0                                | 0                                | ⋯                                | 0                                | 0                                | 0                                | 0                                | 0                                | 0                                | 0                                | 0                                | 0                                | 183                              | \n",
       "\n",
       "\n"
      ],
      "text/plain": [
       "  seller_id                        outcome seller_zip_code_prefix seller_city\n",
       "1 0015a82c2db000af6aaaf3ae2ecb0532 0        9080                  santo andre\n",
       "2 003554e2dce176b5555353e4f3555ac8 0       74565                  goiania    \n",
       "3 00ab3eff1b5192e5f1a63bcecfee11c8 0        4164                  sao paulo  \n",
       "4 010543a62bd80aa422851e79a3bc7540 0        1212                  sao paulo  \n",
       "5 011b0eaba87386a2ae96a7d32bb531d1 0       17580                  pompeia    \n",
       "6 01bcc9d254a0143f0ce9791b960b2a47 1       76400                  uruacu     \n",
       "  seller_state categories_count products_count cat_1 cat_2 cat_3 ⋯ cat_64\n",
       "1 SP           1                1              0     0     0     ⋯ 0     \n",
       "2 GO           1                1              1     0     0     ⋯ 0     \n",
       "3 SP           1                1              0     0     0     ⋯ 0     \n",
       "4 SP           1                1              0     0     0     ⋯ 0     \n",
       "5 SP           1                1              0     0     0     ⋯ 0     \n",
       "6 GO           1                3              0     0     0     ⋯ 0     \n",
       "  cat_65 cat_66 cat_68 cat_70 cat_71 cat_72 cat_73 cat_74 competitors_count\n",
       "1 0      0      0      0      0      0      0      0       56              \n",
       "2 0      0      0      0      0      0      0      0      204              \n",
       "3 0      0      0      0      0      0      0      0      106              \n",
       "4 0      0      0      0      0      0      0      0      124              \n",
       "5 0      0      0      0      0      0      0      0       17              \n",
       "6 0      0      0      0      0      0      0      0      183              "
      ]
     },
     "metadata": {},
     "output_type": "display_data"
    }
   ],
   "source": [
    "sellers <- excludeUniqueValue(sellers)\n",
    "head(sellers)"
   ]
  },
  {
   "cell_type": "code",
   "execution_count": 109,
   "metadata": {},
   "outputs": [
    {
     "ename": "ERROR",
     "evalue": "Error in sort.list(y): 'x' must be atomic for 'sort.list'\nHave you called 'sort' on a list?\n",
     "output_type": "error",
     "traceback": [
      "Error in sort.list(y): 'x' must be atomic for 'sort.list'\nHave you called 'sort' on a list?\nTraceback:\n",
      "1. exploreData(data = sellers, factorSize = TRUE)",
      "2. factor(data[, li])",
      "3. sort.list(y)",
      "4. stop(\"'x' must be atomic for 'sort.list'\\nHave you called 'sort' on a list?\")"
     ]
    }
   ],
   "source": [
    "#exploreData(data=sellers[,2:ncol(sellers)], y=\"outcome\",factorSize = TRUE)\n",
    "exploreData(data=sellers, factorSize = TRUE)"
   ]
  },
  {
   "cell_type": "code",
   "execution_count": 105,
   "metadata": {},
   "outputs": [
    {
     "data": {
      "text/html": [
       "73"
      ],
      "text/latex": [
       "73"
      ],
      "text/markdown": [
       "73"
      ],
      "text/plain": [
       "[1] 73"
      ]
     },
     "metadata": {},
     "output_type": "display_data"
    }
   ],
   "source": [
    "ncol(sellers)"
   ]
  }
 ],
 "metadata": {
  "kernelspec": {
   "display_name": "R",
   "language": "R",
   "name": "ir"
  },
  "language_info": {
   "codemirror_mode": "r",
   "file_extension": ".r",
   "mimetype": "text/x-r-source",
   "name": "R",
   "pygments_lexer": "r",
   "version": "3.4.4"
  }
 },
 "nbformat": 4,
 "nbformat_minor": 2
}
